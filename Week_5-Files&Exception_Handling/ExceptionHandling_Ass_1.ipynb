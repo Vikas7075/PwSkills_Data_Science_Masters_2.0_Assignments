{
 "cells": [
  {
   "cell_type": "markdown",
   "id": "ebc98770",
   "metadata": {},
   "source": [
    "# Que-1: What is an exception in python? Write the difference between Exceptions and syntax errors."
   ]
  },
  {
   "cell_type": "code",
   "execution_count": 1,
   "id": "ed2265c8",
   "metadata": {},
   "outputs": [],
   "source": [
    "'''\n",
    "Ans - An exception is an event, which occurs during the execution of a program that disrupts the normal flow of the program's\n",
    "     instructions.\n",
    "In general, when a Python script encounters a situation that it cannot cope with, it raises an exception.\n",
    "\n",
    "Difference in syntax error and exception :\n",
    "\n",
    "Errors cannot be handled, while Python exceptions can be handled at the run time.\n",
    "An error can be a syntax (parsing) error, while there can be many types of exceptions that could occur during the execution\n",
    "and are not unconditionally inoperable.\n",
    "'''"
   ]
  },
  {
   "cell_type": "code",
   "execution_count": 4,
   "id": "a96f9ce0",
   "metadata": {},
   "outputs": [
    {
     "ename": "ZeroDivisionError",
     "evalue": "division by zero",
     "output_type": "error",
     "traceback": [
      "\u001b[1;31m---------------------------------------------------------------------------\u001b[0m",
      "\u001b[1;31mZeroDivisionError\u001b[0m                         Traceback (most recent call last)",
      "Cell \u001b[1;32mIn[4], line 4\u001b[0m\n\u001b[0;32m      2\u001b[0m logging\u001b[38;5;241m.\u001b[39minfo(\u001b[38;5;124m'\u001b[39m\u001b[38;5;124mThis is Question 1 , Example 1\u001b[39m\u001b[38;5;124m'\u001b[39m)\n\u001b[0;32m      3\u001b[0m a \u001b[38;5;241m=\u001b[39m \u001b[38;5;241m23\u001b[39m\n\u001b[1;32m----> 4\u001b[0m \u001b[43ma\u001b[49m\u001b[38;5;241;43m/\u001b[39;49m\u001b[38;5;241;43m0\u001b[39;49m \u001b[38;5;66;03m#Division by zero is an exception\u001b[39;00m\n",
      "\u001b[1;31mZeroDivisionError\u001b[0m: division by zero"
     ]
    }
   ],
   "source": [
    "# Example of exception\n",
    "logging.info('This is Question 1 , Example 1')\n",
    "a = 23\n",
    "a/0 #Division by zero is an exception"
   ]
  },
  {
   "cell_type": "code",
   "execution_count": 5,
   "id": "41992fa3",
   "metadata": {},
   "outputs": [
    {
     "ename": "SyntaxError",
     "evalue": "invalid syntax. Perhaps you forgot a comma? (1664719280.py, line 4)",
     "output_type": "error",
     "traceback": [
      "\u001b[1;36m  Cell \u001b[1;32mIn[5], line 4\u001b[1;36m\u001b[0m\n\u001b[1;33m    print(a b) #incorrect syntax here will raise syntax error\u001b[0m\n\u001b[1;37m          ^\u001b[0m\n\u001b[1;31mSyntaxError\u001b[0m\u001b[1;31m:\u001b[0m invalid syntax. Perhaps you forgot a comma?\n"
     ]
    }
   ],
   "source": [
    "# Example of syntax error\n",
    "a = 2\n",
    "b = 3\n",
    "print(a b) #incorrect syntax here will raise syntax error"
   ]
  },
  {
   "cell_type": "markdown",
   "id": "92d6aaf3",
   "metadata": {},
   "source": [
    "# Question 2: What happens if exception is not handled? Explain with an example."
   ]
  },
  {
   "cell_type": "code",
   "execution_count": null,
   "id": "2402da32",
   "metadata": {},
   "outputs": [],
   "source": [
    "'''\n",
    "Ans-: If Exception is not handled the code below the exception will not execute at all. It will stop the program at exception.\n",
    "\n",
    "'''"
   ]
  },
  {
   "cell_type": "code",
   "execution_count": 9,
   "id": "b7805876",
   "metadata": {},
   "outputs": [
    {
     "ename": "ZeroDivisionError",
     "evalue": "division by zero",
     "output_type": "error",
     "traceback": [
      "\u001b[1;31m---------------------------------------------------------------------------\u001b[0m",
      "\u001b[1;31mZeroDivisionError\u001b[0m                         Traceback (most recent call last)",
      "Cell \u001b[1;32mIn[9], line 3\u001b[0m\n\u001b[0;32m      1\u001b[0m logging\u001b[38;5;241m.\u001b[39minfo(\u001b[38;5;124m'\u001b[39m\u001b[38;5;124mThis is Question 2 start\u001b[39m\u001b[38;5;124m'\u001b[39m)\n\u001b[0;32m      2\u001b[0m a \u001b[38;5;241m=\u001b[39m \u001b[38;5;241m56\u001b[39m\n\u001b[1;32m----> 3\u001b[0m \u001b[38;5;28mprint\u001b[39m(\u001b[43ma\u001b[49m\u001b[38;5;241;43m/\u001b[39;49m\u001b[38;5;241;43m0\u001b[39;49m) \u001b[38;5;66;03m# This will cause Zero Division Error\u001b[39;00m\n\u001b[0;32m      4\u001b[0m \u001b[38;5;28mprint\u001b[39m(a\u001b[38;5;241m+\u001b[39m\u001b[38;5;241m23\u001b[39m) \u001b[38;5;66;03m# None of these code and below lines will not excute because exception was not handled\u001b[39;00m\n\u001b[0;32m      5\u001b[0m \u001b[38;5;28mprint\u001b[39m(\u001b[38;5;124m'\u001b[39m\u001b[38;5;124mThis will not execute\u001b[39m\u001b[38;5;124m'\u001b[39m) \u001b[38;5;66;03m# Will not execute because exception not handled\u001b[39;00m\n",
      "\u001b[1;31mZeroDivisionError\u001b[0m: division by zero"
     ]
    }
   ],
   "source": [
    "logging.info('This is Question 2 start')\n",
    "a = 56\n",
    "print(a/0) # This will cause Zero Division Error\n",
    "print(a+23) # None of these code and below lines will not excute because exception was not handled\n",
    "print('This will not execute') # Will not execute because exception not handled"
   ]
  },
  {
   "cell_type": "markdown",
   "id": "3cf183ee",
   "metadata": {},
   "source": [
    "# Que-3: Which Python Statements are used to catch and handle exceptions? Explain with an example."
   ]
  },
  {
   "cell_type": "code",
   "execution_count": 11,
   "id": "43f1427f",
   "metadata": {},
   "outputs": [],
   "source": [
    "# Answer : The try and except block in Python is used to catch and handle exceptions."
   ]
  },
  {
   "cell_type": "code",
   "execution_count": 12,
   "id": "88c96ef8",
   "metadata": {},
   "outputs": [
    {
     "name": "stderr",
     "output_type": "stream",
     "text": [
      "ERROR:root:Except block from Question 3 executed\n",
      "Traceback (most recent call last):\n",
      "  File \"C:\\Users\\PC\\AppData\\Local\\Temp\\ipykernel_2492\\3002810753.py\", line 5, in <module>\n",
      "    with open('sample.txt','r') as f:\n",
      "  File \"C:\\Users\\PC\\AppData\\Local\\Programs\\Python\\Python310\\lib\\site-packages\\IPython\\core\\interactiveshell.py\", line 284, in _modified_open\n",
      "    return io_open(file, *args, **kwargs)\n",
      "FileNotFoundError: [Errno 2] No such file or directory: 'sample.txt'\n"
     ]
    },
    {
     "name": "stdout",
     "output_type": "stream",
     "text": [
      "There is exception in this code: [Errno 2] No such file or directory: 'sample.txt'\n",
      "a=23, b= 45, a*b =1035\n"
     ]
    }
   ],
   "source": [
    "# I'm Creating a file example reading exception handling\n",
    "logging.info('This is Start of Question 3')\n",
    "try:\n",
    "    # This code will be tried for execution\n",
    "    with open('sample.txt','r') as f:\n",
    "        print(f.read())\n",
    "        logging.info('Try block from question 3 executed')\n",
    "\n",
    "except Exception as e:\n",
    "    # Exception will be caught here and message will display\n",
    "    print('There is exception in this code:',e)\n",
    "    logging.exception('Except block from Question 3 executed')\n",
    "finally:\n",
    "    # This code will execute regardless wether try block executes or not\n",
    "    a = 23\n",
    "    b = 45\n",
    "    print(f'a={a}, b= {b}, a*b ={a*b}')\n",
    "    logging.info('Finally Block from Question 3 executed')"
   ]
  },
  {
   "cell_type": "markdown",
   "id": "4830454a",
   "metadata": {},
   "source": [
    "# Question 4 : Explain with an example:\n",
    "Try and else\n",
    "finally\n",
    "raise"
   ]
  },
  {
   "cell_type": "code",
   "execution_count": null,
   "id": "38abd96d",
   "metadata": {},
   "outputs": [],
   "source": [
    "'''\n",
    "1- Try and else : Try block will execute if no exceptions. If no exceptions only then else block is executed. \n",
    "If exception occured except block will get executed\n",
    "'''"
   ]
  },
  {
   "cell_type": "code",
   "execution_count": 13,
   "id": "b85b7194",
   "metadata": {},
   "outputs": [],
   "source": [
    "def divide(a,b):\n",
    "    try:\n",
    "        result = a/b\n",
    "        print(\"Try block executed...\")\n",
    "    except Exception as e:\n",
    "        print('Exception occured :',e)\n",
    "    else:\n",
    "        print(\"Else block exectuted..\")\n",
    "        return result"
   ]
  },
  {
   "cell_type": "code",
   "execution_count": 14,
   "id": "2e1319d9",
   "metadata": {},
   "outputs": [
    {
     "name": "stdout",
     "output_type": "stream",
     "text": [
      "Try block executed...\n",
      "Else block exectuted..\n"
     ]
    },
    {
     "data": {
      "text/plain": [
       "2.0"
      ]
     },
     "execution_count": 14,
     "metadata": {},
     "output_type": "execute_result"
    }
   ],
   "source": [
    "divide(10,5)"
   ]
  },
  {
   "cell_type": "code",
   "execution_count": 15,
   "id": "f3132a28",
   "metadata": {},
   "outputs": [
    {
     "name": "stdout",
     "output_type": "stream",
     "text": [
      "Try block executed...\n",
      "Else block exectuted..\n"
     ]
    },
    {
     "data": {
      "text/plain": [
       "0.0"
      ]
     },
     "execution_count": 15,
     "metadata": {},
     "output_type": "execute_result"
    }
   ],
   "source": [
    "divide(0,12)"
   ]
  },
  {
   "cell_type": "code",
   "execution_count": 16,
   "id": "83b979b3",
   "metadata": {},
   "outputs": [
    {
     "name": "stdout",
     "output_type": "stream",
     "text": [
      "Exception occured : division by zero\n"
     ]
    }
   ],
   "source": [
    "divide(12,0)"
   ]
  },
  {
   "cell_type": "code",
   "execution_count": 17,
   "id": "4d614d7e",
   "metadata": {},
   "outputs": [
    {
     "name": "stdout",
     "output_type": "stream",
     "text": [
      "Exception occured : unsupported operand type(s) for /: 'str' and 'int'\n"
     ]
    }
   ],
   "source": [
    "divide('123',2)"
   ]
  },
  {
   "cell_type": "code",
   "execution_count": 18,
   "id": "72dcddf4",
   "metadata": {},
   "outputs": [],
   "source": [
    "# 2- Finally : This code block will always execute .Regardless wether try, except, else blocks are executed"
   ]
  },
  {
   "cell_type": "code",
   "execution_count": 19,
   "id": "d1b66613",
   "metadata": {},
   "outputs": [
    {
     "name": "stdout",
     "output_type": "stream",
     "text": [
      "Exception occured :  unsupported operand type(s) for +: 'int' and 'str'\n",
      "Finally block executed ...!\n"
     ]
    }
   ],
   "source": [
    "logging.info('Explaining finally block always executed...')\n",
    "try:\n",
    "    a=12\n",
    "    b='12'\n",
    "    c = a+b\n",
    "    print(c)\n",
    "except Exception as e:\n",
    "    print('Exception occured : ',e)\n",
    "finally:\n",
    "    print(\"Finally block executed ...!\")"
   ]
  },
  {
   "cell_type": "markdown",
   "id": "fcd7a69d",
   "metadata": {},
   "source": [
    "# Ques-5 : What are custom Exceptions in python ? Why do we need Custom Exceptions? Explain with an Example."
   ]
  },
  {
   "cell_type": "code",
   "execution_count": null,
   "id": "93daa161",
   "metadata": {},
   "outputs": [],
   "source": [
    "'''\n",
    "Ans- : Built-in exceptions offer information about Python-related problems, and custom exceptions will add information about \n",
    "project-related problems. Example percentage value should always be between 0 to 100 ,Python detects all the critical errors\n",
    "that occur during Compile-time and Runtime. It stops the program's execution if the error occurs and raises an exception.\n",
    "Some commonly raised Exceptions are ArithmeticError, AttributeError, ImportError,IOError, FileNotFoundError, etc.\n",
    "\n",
    "'''"
   ]
  },
  {
   "cell_type": "code",
   "execution_count": 20,
   "id": "7cb59d22",
   "metadata": {},
   "outputs": [],
   "source": [
    "# Creating a custom class for custom exception\n",
    "class pcterror(Exception):\n",
    "    def __init__(self,msg):\n",
    "        self.msg = msg"
   ]
  },
  {
   "cell_type": "code",
   "execution_count": 21,
   "id": "1179fa03",
   "metadata": {},
   "outputs": [
    {
     "name": "stdout",
     "output_type": "stream",
     "text": [
      "Percentage marks of student is :  85\n"
     ]
    }
   ],
   "source": [
    "# Check if percentage marks of entered is valid or not\n",
    "# Case 1 : Percentage between 0 and 100\n",
    "logging.info('Question 5 , case 1 started')\n",
    "pct = 85\n",
    "# Below is custom exception which checks if percentage is in between 0 and 100\n",
    "if pct<0 or pct>100:\n",
    "    logging.error('Percentage not in range')\n",
    "    raise pcterror('Invalid percentage entered') \n",
    "else:\n",
    "    print('Percentage marks of student is : ',pct)\n",
    "    logging.info('No Error occured')"
   ]
  },
  {
   "cell_type": "code",
   "execution_count": 22,
   "id": "e5781084",
   "metadata": {},
   "outputs": [
    {
     "name": "stderr",
     "output_type": "stream",
     "text": [
      "ERROR:root:Percentage not in range\n"
     ]
    },
    {
     "ename": "pcterror",
     "evalue": "Invalid percentage entered",
     "output_type": "error",
     "traceback": [
      "\u001b[1;31m---------------------------------------------------------------------------\u001b[0m",
      "\u001b[1;31mpcterror\u001b[0m                                  Traceback (most recent call last)",
      "Cell \u001b[1;32mIn[22], line 7\u001b[0m\n\u001b[0;32m      5\u001b[0m \u001b[38;5;28;01mif\u001b[39;00m pct\u001b[38;5;241m<\u001b[39m\u001b[38;5;241m0\u001b[39m \u001b[38;5;129;01mor\u001b[39;00m pct\u001b[38;5;241m>\u001b[39m\u001b[38;5;241m100\u001b[39m:\n\u001b[0;32m      6\u001b[0m     logging\u001b[38;5;241m.\u001b[39merror(\u001b[38;5;124m'\u001b[39m\u001b[38;5;124mPercentage not in range\u001b[39m\u001b[38;5;124m'\u001b[39m)\n\u001b[1;32m----> 7\u001b[0m     \u001b[38;5;28;01mraise\u001b[39;00m pcterror(\u001b[38;5;124m'\u001b[39m\u001b[38;5;124mInvalid percentage entered\u001b[39m\u001b[38;5;124m'\u001b[39m) \n\u001b[0;32m      8\u001b[0m \u001b[38;5;28;01melse\u001b[39;00m:\n\u001b[0;32m      9\u001b[0m     \u001b[38;5;28mprint\u001b[39m(\u001b[38;5;124m'\u001b[39m\u001b[38;5;124mPercentage marks of student is : \u001b[39m\u001b[38;5;124m'\u001b[39m,pct)\n",
      "\u001b[1;31mpcterror\u001b[0m: Invalid percentage entered"
     ]
    }
   ],
   "source": [
    "# Case 2 : Negative Percentage\n",
    "logging.info('Question 5 , case 2 started')\n",
    "pct = -20\n",
    "# Below is custom exception which checks if percentage is in between 0 and 100\n",
    "if pct<0 or pct>100:\n",
    "    logging.error('Percentage not in range')\n",
    "    raise pcterror('Invalid percentage entered') \n",
    "else:\n",
    "    print('Percentage marks of student is : ',pct)\n",
    "    logging.info('no error occured')"
   ]
  },
  {
   "cell_type": "code",
   "execution_count": 23,
   "id": "f25680de",
   "metadata": {},
   "outputs": [
    {
     "name": "stderr",
     "output_type": "stream",
     "text": [
      "ERROR:root:Percentage not in range\n"
     ]
    },
    {
     "ename": "pcterror",
     "evalue": "Invalid percentage entered",
     "output_type": "error",
     "traceback": [
      "\u001b[1;31m---------------------------------------------------------------------------\u001b[0m",
      "\u001b[1;31mpcterror\u001b[0m                                  Traceback (most recent call last)",
      "Cell \u001b[1;32mIn[23], line 7\u001b[0m\n\u001b[0;32m      5\u001b[0m \u001b[38;5;28;01mif\u001b[39;00m pct\u001b[38;5;241m<\u001b[39m\u001b[38;5;241m0\u001b[39m \u001b[38;5;129;01mor\u001b[39;00m pct\u001b[38;5;241m>\u001b[39m\u001b[38;5;241m100\u001b[39m:\n\u001b[0;32m      6\u001b[0m     logging\u001b[38;5;241m.\u001b[39merror(\u001b[38;5;124m'\u001b[39m\u001b[38;5;124mPercentage not in range\u001b[39m\u001b[38;5;124m'\u001b[39m)\n\u001b[1;32m----> 7\u001b[0m     \u001b[38;5;28;01mraise\u001b[39;00m pcterror(\u001b[38;5;124m'\u001b[39m\u001b[38;5;124mInvalid percentage entered\u001b[39m\u001b[38;5;124m'\u001b[39m) \n\u001b[0;32m      8\u001b[0m \u001b[38;5;28;01melse\u001b[39;00m:\n\u001b[0;32m      9\u001b[0m     \u001b[38;5;28mprint\u001b[39m(\u001b[38;5;124m'\u001b[39m\u001b[38;5;124mPercentage marks of student is : \u001b[39m\u001b[38;5;124m'\u001b[39m,pct)\n",
      "\u001b[1;31mpcterror\u001b[0m: Invalid percentage entered"
     ]
    }
   ],
   "source": [
    "# Case 3 : Percentage > 100\n",
    "logging.info('Question 5 , case 3 started')\n",
    "pct = 135\n",
    "# Below is custom exception which checks if percentage is in between 0 and 100\n",
    "if pct<0 or pct>100:\n",
    "    logging.error('Percentage not in range')\n",
    "    raise pcterror('Invalid percentage entered') \n",
    "else:\n",
    "    print('Percentage marks of student is : ',pct)\n",
    "    logging.info('No error in code')"
   ]
  },
  {
   "cell_type": "markdown",
   "id": "3e127e5d",
   "metadata": {},
   "source": [
    "# Que- 6 : Create a custom exception class . Use this class to handle exception"
   ]
  },
  {
   "cell_type": "code",
   "execution_count": null,
   "id": "2aa1d079",
   "metadata": {},
   "outputs": [],
   "source": [
    "'''\n",
    "Answer : I'm Creating a custom exception to validate PAN Card number Below are rules\n",
    "1-Length of Characters must be 10\n",
    "2-First 5 characters string out of which first 3 are random\n",
    "3-The fourth character of PAN represents the status of the PAN holder must be from ['P','C','H', 'F', 'A', 'T', 'B', 'L', 'J', 'G']\n",
    "4-5th Character must be same as First Letter of surname\n",
    "5-Next 4 characters (from 6 to 9) should be number\n",
    "6-Last character should be a alphabet\n",
    " \n",
    " --source by pan card rules\n",
    "'''"
   ]
  },
  {
   "cell_type": "code",
   "execution_count": 24,
   "id": "3422aa4f",
   "metadata": {},
   "outputs": [],
   "source": [
    "#Creating a custom exception class to validate PAN Card number\n",
    "\n",
    "class validatePAN(Exception):\n",
    "    # This class ValidatePAN is child of Parent class Exception\n",
    "    def __init__(self, msg):\n",
    "        self.msg = msg"
   ]
  },
  {
   "cell_type": "code",
   "execution_count": 25,
   "id": "6d07d959",
   "metadata": {},
   "outputs": [],
   "source": [
    "# Custon Definition to validate pan number\n",
    "def validate_pan_number(surname,pan):\n",
    "\n",
    "    logging.info('Validate pan function started')\n",
    "    \n",
    "    # Condition 1 Check if Surname is entered alphabetic\n",
    "    if not surname.isalpha():\n",
    "        logging.error('Surname error , Surname cannot have numbers')\n",
    "        raise validatePAN('Surname cannot consist of numbers')\n",
    "    \n",
    "    # Condition 2 Check PAN Card Length it must be = 10\n",
    "    elif len(pan)!=10:\n",
    "        logging.error('PAN Number length is not equal to 10')\n",
    "        raise validatePAN('Length of PAN Card should be 10 digits')\n",
    "    \n",
    "    # Condition 3 first 3 charaters should be letters\n",
    "    elif not pan[0:2].isalpha():\n",
    "        logging.error('First 3 letters of PAN Number are not characters')\n",
    "        raise validatePAN('First Three characters of Pan Card Must be Letters')\n",
    "    \n",
    "    # Condition 4 Fourth letters must belong in ['P','C','H', 'F', 'A', 'T', 'B', 'L', 'J', 'G'] \n",
    "    elif pan[3] not in ['P','C','H', 'F', 'A', 'T', 'B', 'L', 'J', 'G']:\n",
    "        logging.error('PAN Category invalid')\n",
    "        raise validatePAN(\"4th Letter must be any of ['P','C','H', 'F', 'A', 'T', 'B', 'L', 'J', 'G']\")\n",
    "    \n",
    "    # Condition 5 Fifth letter of PAN Card must match with 1st letter of surname \n",
    "    # Case Unification done if characters enterd in different case\n",
    "    elif surname[0].upper()!=pan[4].upper():\n",
    "        logging.error('1st Letter of Surname and 5th Letter of PAN not matching')\n",
    "        raise validatePAN(\"First Digit of surname not matching with 5th Letter of pan\")\n",
    "    \n",
    "    # Condition 6 Next 4 characters should be numeric \n",
    "    elif not pan[5:9].isnumeric():\n",
    "        logging.error('Characters 6 to 9 not numeric')\n",
    "        raise validatePAN(\"Characters from 6 to 9 should be numbers\")\n",
    "    \n",
    "    # Condition 7 Last Character must be alphabet\n",
    "    elif not pan[-1].isalpha():\n",
    "        logging.error('Last character in not an alphabet')\n",
    "        raise validatePAN(\"Last Character of PAN must be a Alphabet\")\n",
    "    \n",
    "    # If all above condition satisfy Pan Number is valid\n",
    "    else:\n",
    "        print('PAN Number is valid')\n",
    "        logging.info('PAN Card number is Valid')"
   ]
  },
  {
   "cell_type": "code",
   "execution_count": 26,
   "id": "60a941eb",
   "metadata": {},
   "outputs": [
    {
     "name": "stdout",
     "output_type": "stream",
     "text": [
      "PAN Number is valid\n"
     ]
    }
   ],
   "source": [
    "# Test Case 1 : Checking a Valid pan number and surname\n",
    "logging.info('Test Case 1 , Question 6')\n",
    "try:\n",
    "    surname = 'gaikwad'\n",
    "    pan = 'AAAPG1234F'\n",
    "    validate_pan_number(surname,pan)\n",
    "    logging.info('Try Block executed')\n",
    "except validatePAN as e:\n",
    "    print(e)\n",
    "    logging.exception('Except block executed')"
   ]
  },
  {
   "cell_type": "code",
   "execution_count": 27,
   "id": "338cb40c",
   "metadata": {},
   "outputs": [
    {
     "name": "stderr",
     "output_type": "stream",
     "text": [
      "ERROR:root:Surname error , Surname cannot have numbers\n",
      "ERROR:root:Except block executed\n",
      "Traceback (most recent call last):\n",
      "  File \"C:\\Users\\PC\\AppData\\Local\\Temp\\ipykernel_2492\\2302266496.py\", line 6, in <module>\n",
      "    validate_pan_number(surname,pan)\n",
      "  File \"C:\\Users\\PC\\AppData\\Local\\Temp\\ipykernel_2492\\1536309593.py\", line 9, in validate_pan_number\n",
      "    raise validatePAN('Surname cannot consist of numbers')\n",
      "validatePAN: Surname cannot consist of numbers\n"
     ]
    },
    {
     "name": "stdout",
     "output_type": "stream",
     "text": [
      "Surname cannot consist of numbers\n"
     ]
    }
   ],
   "source": [
    "# Test case 2 : Entering invalid surname\n",
    "logging.info('Test Case 2 , Question 6')\n",
    "try:\n",
    "    surname = '123skfm'\n",
    "    pan = 'AAAPG1234F'\n",
    "    validate_pan_number(surname,pan)\n",
    "    logging.info('Try Block executed')\n",
    "except validatePAN as e:\n",
    "    print(e)\n",
    "    logging.exception('Except block executed')"
   ]
  },
  {
   "cell_type": "code",
   "execution_count": 28,
   "id": "dc6d5eed",
   "metadata": {},
   "outputs": [
    {
     "name": "stderr",
     "output_type": "stream",
     "text": [
      "ERROR:root:PAN Number length is not equal to 10\n",
      "ERROR:root:Except block executed\n",
      "Traceback (most recent call last):\n",
      "  File \"C:\\Users\\PC\\AppData\\Local\\Temp\\ipykernel_2492\\3688708175.py\", line 6, in <module>\n",
      "    validate_pan_number(surname,pan)\n",
      "  File \"C:\\Users\\PC\\AppData\\Local\\Temp\\ipykernel_2492\\1536309593.py\", line 14, in validate_pan_number\n",
      "    raise validatePAN('Length of PAN Card should be 10 digits')\n",
      "validatePAN: Length of PAN Card should be 10 digits\n"
     ]
    },
    {
     "name": "stdout",
     "output_type": "stream",
     "text": [
      "Length of PAN Card should be 10 digits\n"
     ]
    }
   ],
   "source": [
    "# Test Case 3 : Entering Pan Number Less than 10 numbers\n",
    "logging.info('Test Case 3 , Question 6')\n",
    "try:\n",
    "    surname = 'gaikwad'\n",
    "    pan = 'AAAPG12'\n",
    "    validate_pan_number(surname,pan)\n",
    "    logging.info('Try Block executed')\n",
    "except validatePAN as e:\n",
    "    print(e)\n",
    "    logging.exception('Except block executed')"
   ]
  },
  {
   "cell_type": "code",
   "execution_count": 29,
   "id": "c6ececbf",
   "metadata": {},
   "outputs": [
    {
     "name": "stderr",
     "output_type": "stream",
     "text": [
      "ERROR:root:First 3 letters of PAN Number are not characters\n",
      "ERROR:root:Except block executed\n",
      "Traceback (most recent call last):\n",
      "  File \"C:\\Users\\PC\\AppData\\Local\\Temp\\ipykernel_2492\\868844381.py\", line 6, in <module>\n",
      "    validate_pan_number(surname,pan)\n",
      "  File \"C:\\Users\\PC\\AppData\\Local\\Temp\\ipykernel_2492\\1536309593.py\", line 19, in validate_pan_number\n",
      "    raise validatePAN('First Three characters of Pan Card Must be Letters')\n",
      "validatePAN: First Three characters of Pan Card Must be Letters\n"
     ]
    },
    {
     "name": "stdout",
     "output_type": "stream",
     "text": [
      "First Three characters of Pan Card Must be Letters\n"
     ]
    }
   ],
   "source": [
    "# Test Case 4 : Entering Pan Number Less than 10 numbers First 3 letters of pancard is not alphabet\n",
    "logging.info('Test Case 4 , Question 6')\n",
    "try:\n",
    "    surname = 'gaikwad'\n",
    "    pan = 'A2APG1234F'\n",
    "    validate_pan_number(surname,pan)\n",
    "    logging.info('Try Block executed')\n",
    "except validatePAN as e:\n",
    "    print(e)\n",
    "    logging.exception('Except block executed')"
   ]
  },
  {
   "cell_type": "code",
   "execution_count": 30,
   "id": "6f61c709",
   "metadata": {},
   "outputs": [
    {
     "name": "stderr",
     "output_type": "stream",
     "text": [
      "ERROR:root:PAN Category invalid\n",
      "ERROR:root:Except block executed\n",
      "Traceback (most recent call last):\n",
      "  File \"C:\\Users\\PC\\AppData\\Local\\Temp\\ipykernel_2492\\597160343.py\", line 6, in <module>\n",
      "    validate_pan_number(surname,pan)\n",
      "  File \"C:\\Users\\PC\\AppData\\Local\\Temp\\ipykernel_2492\\1536309593.py\", line 24, in validate_pan_number\n",
      "    raise validatePAN(\"4th Letter must be any of ['P','C','H', 'F', 'A', 'T', 'B', 'L', 'J', 'G']\")\n",
      "validatePAN: 4th Letter must be any of ['P','C','H', 'F', 'A', 'T', 'B', 'L', 'J', 'G']\n"
     ]
    },
    {
     "name": "stdout",
     "output_type": "stream",
     "text": [
      "4th Letter must be any of ['P','C','H', 'F', 'A', 'T', 'B', 'L', 'J', 'G']\n"
     ]
    }
   ],
   "source": [
    "# Test Case 5: Letter 4 not belonging from ['P','C','H', 'F', 'A', 'T', 'B', 'L', 'J', 'G']\n",
    "logging.info('Test Case 4 , Question 6') \n",
    "try:\n",
    "    surname = 'gaikwad'\n",
    "    pan = 'AAAZG1234F'\n",
    "    validate_pan_number(surname,pan)\n",
    "    logging.info('Try Block executed')\n",
    "except validatePAN as e:\n",
    "    print(e)\n",
    "    logging.exception('Except block executed')"
   ]
  },
  {
   "cell_type": "code",
   "execution_count": 31,
   "id": "52f5301f",
   "metadata": {},
   "outputs": [
    {
     "name": "stderr",
     "output_type": "stream",
     "text": [
      "ERROR:root:1st Letter of Surname and 5th Letter of PAN not matching\n",
      "ERROR:root:Except block executed\n",
      "Traceback (most recent call last):\n",
      "  File \"C:\\Users\\PC\\AppData\\Local\\Temp\\ipykernel_2492\\2743827686.py\", line 6, in <module>\n",
      "    validate_pan_number(surname,pan)\n",
      "  File \"C:\\Users\\PC\\AppData\\Local\\Temp\\ipykernel_2492\\1536309593.py\", line 30, in validate_pan_number\n",
      "    raise validatePAN(\"First Digit of surname not matching with 5th Letter of pan\")\n",
      "validatePAN: First Digit of surname not matching with 5th Letter of pan\n"
     ]
    },
    {
     "name": "stdout",
     "output_type": "stream",
     "text": [
      "First Digit of surname not matching with 5th Letter of pan\n"
     ]
    }
   ],
   "source": [
    "# Test Case 6: First letter of surname and 5th character of PAN Number not matching\n",
    "logging.info('Test Case 5 , Question 6')\n",
    "try:\n",
    "    surname = 'gaikwad'\n",
    "    pan = 'AAAPX1234F'\n",
    "    validate_pan_number(surname,pan)\n",
    "    logging.info('Try Block executed')\n",
    "except validatePAN as e:\n",
    "    print(e)\n",
    "    logging.exception('Except block executed')"
   ]
  },
  {
   "cell_type": "code",
   "execution_count": null,
   "id": "b323b00a",
   "metadata": {},
   "outputs": [],
   "source": []
  },
  {
   "cell_type": "code",
   "execution_count": null,
   "id": "55702ffa",
   "metadata": {},
   "outputs": [],
   "source": []
  },
  {
   "cell_type": "code",
   "execution_count": null,
   "id": "21a82bbd",
   "metadata": {},
   "outputs": [],
   "source": []
  }
 ],
 "metadata": {
  "kernelspec": {
   "display_name": "Python 3 (ipykernel)",
   "language": "python",
   "name": "python3"
  },
  "language_info": {
   "codemirror_mode": {
    "name": "ipython",
    "version": 3
   },
   "file_extension": ".py",
   "mimetype": "text/x-python",
   "name": "python",
   "nbconvert_exporter": "python",
   "pygments_lexer": "ipython3",
   "version": "3.10.5"
  }
 },
 "nbformat": 4,
 "nbformat_minor": 5
}
