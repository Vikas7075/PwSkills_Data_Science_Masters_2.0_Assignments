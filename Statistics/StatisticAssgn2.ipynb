{
 "cells": [
  {
   "cell_type": "code",
   "execution_count": null,
   "id": "72d71808",
   "metadata": {},
   "outputs": [],
   "source": [
    "'''\n",
    "Que-1. What are the three measures of central tendency?\n",
    "Ans- Mean: The mean is the sum of all values in a dataset divided by the total number of values. \n",
    "           It represents the average value of the dataset.\n",
    "\n",
    "Median: The median is the middle value in a dataset when it is arranged in ascending or descending order. \n",
    "        If the dataset has an odd number of values, the median is the middle value. If the dataset has an even number of values,\n",
    "        the median is the average of the two middle values.\n",
    "\n",
    "Mode: The mode is the value that appears most frequently in a dataset.\n",
    "\n",
    "'''"
   ]
  },
  {
   "cell_type": "code",
   "execution_count": null,
   "id": "301161e4",
   "metadata": {},
   "outputs": [],
   "source": [
    "'''\n",
    "Que-2. What is the difference between the mean, median, and mode? How are they used to measure the\n",
    "central tendency of a dataset?\n",
    "Ans- The mean, median, and mode are three different measures of central tendency that describe the center or average value \n",
    "      of a dataset.\n",
    "Mean:\n",
    " Definition: The mean is calculated by summing up all the values in a dataset and then dividing by the total number of values.\n",
    "   Calculation: Mean = (Sum of all values) / (Total number of values)\n",
    "   Use: The mean is useful when you want to find the \"average\" value of a dataset. It takes into account all values and can be \n",
    "       sensitive to extreme outliers. However, it might not be the best representation if the data is skewed or has outliers.\n",
    "Median:\n",
    " Definition: The median is the middle value of a dataset when arranged in ascending or descending order. It divides the data \n",
    "      into two equal halves.\n",
    "  Calculation (for odd number of values): Median = Middle value\n",
    "  Calculation (for even number of values): Median = (Value at position N/2) + (Value at position N/2 + 1) / 2\n",
    "  Use: The median is a robust measure that is not affected by extreme values or outliers. It's useful when the data is skewed \n",
    "      or has a few extreme values that could significantly affect the mean.\n",
    "Mode:\n",
    " Definition: The mode is the value that appears most frequently in a dataset.\n",
    " Use: The mode is useful for identifying the most common value in a dataset. It's particularly handy for categorical data or \n",
    "    data with discrete values. A dataset can have multiple modes if several values have the same highest frequency.\n",
    "'''"
   ]
  },
  {
   "cell_type": "code",
   "execution_count": 8,
   "id": "50d1816c",
   "metadata": {},
   "outputs": [],
   "source": [
    "'''\n",
    "Que-3. Measure the three measures of central tendency for the given height data:\n",
    "[178,177,176,177,178.2,178,175,179,180,175,178.9,176.2,177,172.5,178,176.5]\n",
    "'''\n",
    "import numpy as np\n",
    "list1 = [178,177,176,177,178.2,178,175,179,180,175,178.9,176.2,177,172.5,178,176.5]\n"
   ]
  },
  {
   "cell_type": "code",
   "execution_count": 9,
   "id": "9d61c6b3",
   "metadata": {},
   "outputs": [
    {
     "data": {
      "text/plain": [
       "177.01875"
      ]
     },
     "execution_count": 9,
     "metadata": {},
     "output_type": "execute_result"
    }
   ],
   "source": [
    "np.mean(list1)"
   ]
  },
  {
   "cell_type": "code",
   "execution_count": 10,
   "id": "95461e8a",
   "metadata": {},
   "outputs": [
    {
     "data": {
      "text/plain": [
       "177.0"
      ]
     },
     "execution_count": 10,
     "metadata": {},
     "output_type": "execute_result"
    }
   ],
   "source": [
    "np.median(list1)"
   ]
  },
  {
   "cell_type": "code",
   "execution_count": 12,
   "id": "357bb22c",
   "metadata": {},
   "outputs": [
    {
     "data": {
      "text/plain": [
       "1.7885814036548633"
      ]
     },
     "execution_count": 12,
     "metadata": {},
     "output_type": "execute_result"
    }
   ],
   "source": [
    "'''\n",
    "Que-4. Find the standard deviation for the given data:\n",
    "[178,177,176,177,178.2,178,175,179,180,175,178.9,176.2,177,172.5,178,176.5]\n",
    "'''\n",
    "list2 = [178,177,176,177,178.2,178,175,179,180,175,178.9,176.2,177,172.5,178,176.5]\n",
    "np.std(list2)"
   ]
  },
  {
   "cell_type": "code",
   "execution_count": null,
   "id": "3ef0c08c",
   "metadata": {},
   "outputs": [],
   "source": [
    "'''\n",
    "Que-5. How are measures of dispersion such as range, variance, and standard deviation used to describe\n",
    "the spread of a dataset? Provide an example.\n",
    "Ans- Measures of dispersion, such as range, variance, and standard deviation, are used to quantify the spread or variability of\n",
    "a dataset. They provide insight into how the data points are distributed around the central tendency (mean, median, or mode)\n",
    "and help in understanding the degree to which the data values deviate from each other.\n",
    "\n",
    "Range:\n",
    "The range is the simplest measure of dispersion. It is the difference between the highest and lowest values in a dataset.\n",
    "While easy to calculate, it is sensitive to outliers and doesn't provide a detailed view of how the data points are distributed\n",
    "within the range.\n",
    "Example:\n",
    "Consider two datasets:\n",
    "\n",
    "Dataset A: [10, 15, 20, 25, 30] (Range = 30 - 10 = 20)\n",
    "Dataset B: [10, 15, 20, 25, 100] (Range = 100 - 10 = 90)\n",
    "Both datasets have the same range, but Dataset B has a larger spread due to the outlier value of 100.\n",
    "\n",
    "Variance:\n",
    "Variance measures the average of the squared differences between each data point and the mean of the dataset. It gives a more \n",
    "comprehensive understanding of how much the individual data points deviate from the mean. However, variance is in squared units,\n",
    "which can be less intuitive.\n",
    "Example:\n",
    "Consider the dataset: [10, 15, 20, 25, 30]\n",
    "Mean = (10 + 15 + 20 + 25 + 30) / 5 = 20\n",
    "Variance = [(10 - 20)^2 + (15 - 20)^2 + (20 - 20)^2 + (25 - 20)^2 + (30 - 20)^2] / 5 = 125\n",
    "\n",
    "Standard Deviation:\n",
    "The standard deviation is the square root of the variance. It's a commonly used measure of dispersion because it's in the \n",
    "same unit as the original data and is easier to interpret compared to variance.\n",
    "Example:\n",
    "Using the same dataset as above, the standard deviation:\n",
    "Standard Deviation = √Variance = √125 ≈ 11.18\n",
    "'''"
   ]
  },
  {
   "cell_type": "code",
   "execution_count": null,
   "id": "ee89a29d",
   "metadata": {},
   "outputs": [],
   "source": [
    "'''\n",
    "Que-6. What is a Venn diagram?\n",
    "Ans - A Venn diagram is a visual representation used to show the relationships between different sets of data or groups. \n",
    "It uses overlapping circles or other closed shapes to depict the common elements and differences among the sets. Venn diagrams\n",
    "are commonly used in mathematics, logic, statistics, and various fields to illustrate concepts of set theory and the \n",
    "intersections between different categories or groups.\n",
    "'''"
   ]
  },
  {
   "cell_type": "code",
   "execution_count": null,
   "id": "305a2b55",
   "metadata": {},
   "outputs": [],
   "source": [
    "'''\n",
    "Que-7. For the two given sets A = (2,3,4,5,6,7) & B = (0,2,6,8,10). Find:\n",
    "(i) A B\n",
    "(ii) A ⋃ B\n",
    "Ans - 1 - A intersection B => (2,6)\n",
    "      2 - A union B => (0,2,3,4,5,6,7,8,10)\n",
    "'''"
   ]
  },
  {
   "cell_type": "code",
   "execution_count": null,
   "id": "1d14e543",
   "metadata": {},
   "outputs": [],
   "source": [
    "'''\n",
    "Que-8. What do you understand about skewness in data?\n",
    "Ans- Skewness is a statistical measure that describes the asymmetry or lack of symmetry in the distribution of data values \n",
    "within a dataset. It indicates the extent to which the data is skewed or \"lopsided\" in one direction or the other relative to \n",
    "the mean.\n",
    "\n",
    "There are three main types of skewness:\n",
    "\n",
    "Positive Skew (Right Skew):\n",
    "In a positively skewed distribution, the tail on the right-hand side is longer or stretched out compared to the left-hand side.\n",
    "This means that the majority of the data values are concentrated on the left side of the distribution, while a few larger values\n",
    "extend the right tail.\n",
    "\n",
    "Negative Skew (Left Skew):\n",
    "In a negatively skewed distribution, the tail on the left-hand side is longer or stretched out compared to the right-hand side.\n",
    "This indicates that most of the data values are concentrated on the right side of the distribution, while a few smaller values\n",
    "extend the left tail.\n",
    "\n",
    "Symmetric Distribution:\n",
    "In a symmetric distribution, the data values are evenly distributed around the central point (mean, median, or mode), and the\n",
    "tails on both sides are roughly equal in length.\n",
    "'''"
   ]
  },
  {
   "cell_type": "code",
   "execution_count": null,
   "id": "c2ab8a86",
   "metadata": {},
   "outputs": [],
   "source": [
    "'''\n",
    "Que-9. If a data is right skewed then what will be the position of median with respect to mean?\n",
    "\n",
    "Ans- If a dataset is right-skewed, it means that the distribution has a longer right tail and most of the data values are \n",
    "concentrated on the left side of the distribution. In this case, the mean will be greater than the median.\n",
    "\n",
    "\n",
    "'''"
   ]
  },
  {
   "cell_type": "code",
   "execution_count": null,
   "id": "1891d25d",
   "metadata": {},
   "outputs": [],
   "source": [
    "'''\n",
    "Que-10. Explain the difference between covariance and correlation. How are these measures used in\n",
    "statistical analysis?\n",
    "Ans- ovariance and correlation are both measures that describe the relationship between two variables in a dataset. However, \n",
    "they have distinct properties and are used to analyze different aspects of the relationship between variables.\n",
    "\n",
    "Covariance:\n",
    "Covariance measures the degree to which two variables change together. A positive covariance indicates that as one variable\n",
    "increases, the other tends to increase as well, and as one decreases, the other tends to decrease. A negative covariance \n",
    "indicates an inverse relationship: as one variable increases, the other tends to decrease.\n",
    "\n",
    "Mathematically, the covariance between two variables X and Y is calculated as:\n",
    "\n",
    "Cov(X, Y) = Σ [(Xi - X̄) * (Yi - Ȳ)] / (n - 1)\n",
    "\n",
    "where Xi and Yi are individual data points, X̄ and Ȳ are the means of X and Y, and n is the number of data points.\n",
    "\n",
    "Correlation:\n",
    "Correlation, specifically Pearson correlation coefficient, is a standardized measure that quantifies the strength and direction\n",
    "of the linear relationship between two variables. It ranges from -1 to 1. A correlation coefficient of +1 indicates a perfect \n",
    "positive linear relationship, -1 indicates a perfect negative linear relationship, and 0 indicates no linear relationship.\n",
    "\n",
    "Mathematically, the Pearson correlation coefficient (ρ) between two variables X and Y is calculated as:\n",
    "\n",
    "ρ = Cov(X, Y) / (σX * σY)\n",
    "\n",
    "where Cov(X, Y) is the covariance between X and Y, and σX and σY are the standard deviations of X and Y.\n",
    "'''"
   ]
  },
  {
   "cell_type": "code",
   "execution_count": null,
   "id": "9f1ff440",
   "metadata": {},
   "outputs": [],
   "source": [
    "'''\n",
    "Que-11. What is the formula for calculating the sample mean? Provide an example calculation for a\n",
    "dataset.\n",
    "Ans- The formula for calculating the sample mean (average) of a dataset is as follows:\n",
    "\n",
    "Sample Mean (x̄) = (Sum of all data points) / (Number of data points)\n",
    "\n",
    "Here's an example calculation:\n",
    "\n",
    "Consider the dataset: [12, 15, 18, 20, 22]\n",
    "\n",
    "Step 1: Add up all the data points:\n",
    "12 + 15 + 18 + 20 + 22 = 87\n",
    "\n",
    "Step 2: Count the number of data points:\n",
    "There are 5 data points in the dataset.\n",
    "\n",
    "Step 3: Apply the formula to calculate the sample mean:\n",
    "x̄ = (Sum of all data points) / (Number of data points)\n",
    "x̄ = 87 / 5\n",
    "x̄ = 17.4\n",
    "\n",
    "So, the sample mean of the dataset [12, 15, 18, 20, 22] is 17.4.\n",
    "\n",
    "'''"
   ]
  },
  {
   "cell_type": "code",
   "execution_count": null,
   "id": "ab993da6",
   "metadata": {},
   "outputs": [],
   "source": [
    "'''\n",
    "Que-12. For a normal distribution data what is the relationship between its measure of central tendency?\n",
    "Ans- In a normal distribution, which is also known as a Gaussian distribution or bell curve, the measures of central tendency \n",
    "(mean, median, and mode) are all equal and located at the center of the distribution. This property holds true regardless of \n",
    "the shape of the normal distribution.\n",
    "'''"
   ]
  },
  {
   "cell_type": "code",
   "execution_count": null,
   "id": "51dc5ba6",
   "metadata": {},
   "outputs": [],
   "source": [
    "'''\n",
    "Que-13. How is covariance different from correlation?\n",
    "\n",
    "Ans - Covariance and correlation are both measures that describe the relationship between two variables in a dataset, but they\n",
    "have distinct differences in terms of their properties and interpretations:\n",
    "\n",
    "1. Nature and Scale:\n",
    "\n",
    "Covariance: Covariance measures the direction (positive or negative) and strength of the linear relationship between two \n",
    "variables. It can take any value, positive or negative, and its magnitude is not standardized. This means that its numerical \n",
    "value can vary widely depending on the units of the variables.\n",
    "Correlation: Correlation is a standardized measure that quantifies the strength and direction of the linear relationship \n",
    "between two variables. It always ranges between -1 (perfect negative correlation) and +1 (perfect positive correlation), with 0\n",
    "indicating no linear correlation. Correlation is unitless, making it easier to interpret and compare.\n",
    "\n",
    "2. Interpretation:\n",
    "Covariance: The magnitude of covariance doesn't provide an easily interpretable measure of the strength of the relationship.\n",
    "A positive covariance indicates that larger values of one variable tend to correspond to larger values of the other, and vice\n",
    "versa. A negative covariance indicates that larger values of one variable tend to correspond to smaller values of the other.\n",
    "Correlation: Correlation provides a more meaningful measure of the strength and direction of the linear relationship. \n",
    "A correlation coefficient of +1 indicates a perfect positive linear relationship, -1 indicates a perfect negative linear \n",
    "relationship, and 0 indicates no linear relationship.\n",
    "\n",
    "3. Standardization:\n",
    "Covariance: Covariance is not standardized and can be affected by the magnitudes of the variables.\n",
    "Correlation: Correlation standardizes the measure, making it more suitable for comparisons between different pairs of variables.\n",
    "It is less affected by the scale of the variables.\n",
    "\n",
    "4. Range:\n",
    "Covariance: The range of covariance is not fixed and can vary widely.\n",
    "Correlation: The range of correlation is fixed between -1 and +1.\n",
    "\n",
    "'''"
   ]
  },
  {
   "cell_type": "code",
   "execution_count": null,
   "id": "035f9597",
   "metadata": {},
   "outputs": [],
   "source": [
    "'''\n",
    "Que-14. How do outliers affect measures of central tendency and dispersion? Provide an example.\n",
    "Ans- Outliers are data points that significantly deviate from the rest of the data in a dataset. They can have a notable impact\n",
    "on both measures of central tendency (mean, median, mode) and measures of dispersion (range, variance, standard deviation). \n",
    "Here's how outliers affect these measures, along with an example:\n",
    "\n",
    "Measures of Central Tendency:\n",
    "\n",
    "Mean: Outliers can have a significant impact on the mean because the mean takes into account the value of each data point.\n",
    "Even a single extreme outlier can pull the mean towards its direction, making it larger or smaller depending on the outlier's \n",
    "value.\n",
    "\n",
    "Median: The median is resistant to outliers. If there are outliers, they won't have as much impact on the median as they do on \n",
    "the mean. The median is only influenced by the position of the data points, not their values.\n",
    "\n",
    "Mode: The mode is generally not affected by outliers unless an outlier occurs multiple times and becomes the most frequent value\n",
    "\n",
    "Measures of Dispersion:\n",
    "\n",
    "Range: Outliers can significantly affect the range, especially if they are far from the rest of the data. The range becomes \n",
    "larger due to the presence of outliers.\n",
    "\n",
    "Variance and Standard Deviation: Outliers can have a substantial impact on both variance and standard deviation. Because \n",
    "variance and standard deviation involve squared differences from the mean, extreme values (outliers) can greatly increase these\n",
    "measures.\n",
    "\n",
    "Example:\n",
    "Consider a dataset of exam scores: [85, 89, 92, 94, 98, 100, 102, 103, 105, 110, 112, 115, 118, 120, 180]\n",
    "\n",
    "Without the outlier (180), the dataset appears normally distributed with a relatively tight spread. Let's see how outliers \n",
    "affect the measures of central tendency and dispersion:\n",
    "\n",
    "Original Mean: (85 + 89 + ... + 120) / 15 = 106.6\n",
    "\n",
    "Mean with Outlier: (85 + 89 + ... + 120 + 180) / 16 = 110.25\n",
    "\n",
    "Original Median: 105\n",
    "\n",
    "Median with Outlier: 109\n",
    "\n",
    "Original Range: 120 - 85 = 35\n",
    "\n",
    "Range with Outlier: 180 - 85 = 95\n",
    "\n",
    "Original Standard Deviation: ~17.56\n",
    "\n",
    "Standard Deviation with Outlier: ~30.21\n",
    "'''"
   ]
  }
 ],
 "metadata": {
  "kernelspec": {
   "display_name": "Python 3 (ipykernel)",
   "language": "python",
   "name": "python3"
  },
  "language_info": {
   "codemirror_mode": {
    "name": "ipython",
    "version": 3
   },
   "file_extension": ".py",
   "mimetype": "text/x-python",
   "name": "python",
   "nbconvert_exporter": "python",
   "pygments_lexer": "ipython3",
   "version": "3.10.5"
  }
 },
 "nbformat": 4,
 "nbformat_minor": 5
}
