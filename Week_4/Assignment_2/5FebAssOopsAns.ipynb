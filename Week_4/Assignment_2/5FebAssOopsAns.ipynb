{
 "cells": [
  {
   "cell_type": "code",
   "execution_count": 3,
   "id": "1d6dc739",
   "metadata": {},
   "outputs": [
    {
     "name": "stdout",
     "output_type": "stream",
     "text": [
      "The 2023 Toyata Camry is now running\n",
      "The 2012 Ford Mustang is now stop\n"
     ]
    }
   ],
   "source": [
    "'''\n",
    "Que-1. Explain Class and Object with respect to Object-Oriented Programming. Give a suitable example.\n",
    "Ans-:  In a object oriented programming, class and an object is the fundamental concept that allow to model real world entities\n",
    "       and their interaction in a structured and organized manner.\n",
    "       'Class' is blueprint or template for creating an object, it define the data members and behavior(methods/funcions)\n",
    "        which is used by object.\n",
    "        'Object' An object is an instance of class, it can be thought as an actual entities that work with in your program.\n",
    "        they can have thier own unique data and they follow the strucure defined by the class belong to.\n",
    "'''\n",
    "\n",
    "class Car:\n",
    "    def __init__(self,make,model,year):\n",
    "        self.make = make\n",
    "        self.model=model\n",
    "        self.year=year\n",
    "        self.is_running=False\n",
    "    def start(self):\n",
    "        self.is_running=True\n",
    "        print (f\"The {self.year} {self.make} {self.model} is now running\")\n",
    "        \n",
    "    def stop(self):\n",
    "        self.is_running = False\n",
    "        print(f\"The {self.year} {self.make} {self.model} is now stop\")\n",
    "        \n",
    " #Creating an object for car class        \n",
    "car1 = Car(\"Toyata\",\"Camry\",2023)\n",
    "car2 = Car(\"Ford\",\"Mustang\",2012)\n",
    "\n",
    "#accesing method \n",
    "car1.start()\n",
    "car2.stop()"
   ]
  },
  {
   "cell_type": "code",
   "execution_count": null,
   "id": "e3500b47",
   "metadata": {},
   "outputs": [],
   "source": [
    "'''\n",
    "Que-2. Name the four pillars of OOPs.\n",
    "Ans- Encapsulation\n",
    "     Abstraction\n",
    "     Polymorphism\n",
    "     Inheritence\n",
    "'''"
   ]
  },
  {
   "cell_type": "code",
   "execution_count": 4,
   "id": "70077047",
   "metadata": {},
   "outputs": [
    {
     "name": "stdout",
     "output_type": "stream",
     "text": [
      "The 2022 Toyota Camry has now traveled 100 miles.\n",
      "The 2022 Toyota Camry has now traveled 250 miles.\n",
      "The 2023 Honda Civic has now traveled 200 miles.\n"
     ]
    }
   ],
   "source": [
    "'''\n",
    "Que-3. Explain why the __init__() function is used. Give a suitable example.\n",
    "Ans - In python __init__ function( also known as Constructors ) is used to initialize a the attribute or properties\n",
    "      of an object when an instance of class is created, it is called automatically when you create a new object of class.\n",
    "'''\n",
    "class Car:\n",
    "    def __init__(self, make, model, year):\n",
    "        self.make = make\n",
    "        self.model = model\n",
    "        self.year = year\n",
    "        self.mileage = 0 \n",
    "    \n",
    "    def drive(self, miles):\n",
    "        self.mileage += miles\n",
    "        print(f\"The {self.year} {self.make} {self.model} has now traveled {self.mileage} miles.\")\n",
    "\n",
    "# Creating instances of the Car class\n",
    "car1 = Car(\"Toyota\", \"Camry\", 2022)\n",
    "car2 = Car(\"Honda\", \"Civic\", 2023)\n",
    "\n",
    "# Using the drive method to update mileage\n",
    "car1.drive(100)\n",
    "car1.drive(150)\n",
    "car2.drive(200)\n"
   ]
  },
  {
   "cell_type": "code",
   "execution_count": null,
   "id": "7ef8ef7b",
   "metadata": {},
   "outputs": [],
   "source": [
    "'''\n",
    "Que-4. Why self is used in OOPs?\n",
    "Ans- In object-oriented programming (OOP), self is used to refer to the instance of the class within its own methods and \n",
    "     attributes. It acts as a reference to the object that the method or attribute belongs to.\n",
    "     Here's why self is used in OOP-\n",
    "     Accessing Instance Attributes and Methods\n",
    "     Maintaining State\n",
    "     Method Invocation\n",
    "'''\n"
   ]
  },
  {
   "cell_type": "code",
   "execution_count": 5,
   "id": "9c1599ba",
   "metadata": {},
   "outputs": [],
   "source": [
    "'''\n",
    "Que-5. What is inheritance? Give an example for each type of inheritance.\n",
    "Ans- Inheritance is a fundamental concept in object-oriented programming (OOP) that allows a new class (subclass or derived \n",
    "     class) to inherit properties (attributes and methods) from an existing class (superclass or base class). This promotes c\n",
    "     ode reusability and allows you to create new classes based on existing ones, forming a hierarchy of classes.\n",
    "'''\n",
    "# There are several types of inheritance:\n",
    "# 1- Single Inheritance: In this type, a subclass inherits from a single superclass.\n",
    "class Animal:\n",
    "    def speak(self):\n",
    "        pass\n",
    "\n",
    "class Dog(Animal):\n",
    "    def speak(self):\n",
    "        return \"Woof!\"\n",
    "\n",
    "class Cat(Animal):\n",
    "    def speak(self):\n",
    "        return \"Meow!\"\n"
   ]
  },
  {
   "cell_type": "code",
   "execution_count": 10,
   "id": "ca462942",
   "metadata": {},
   "outputs": [],
   "source": [
    "obj1= Dog()"
   ]
  },
  {
   "cell_type": "code",
   "execution_count": 11,
   "id": "ae6a79db",
   "metadata": {},
   "outputs": [
    {
     "data": {
      "text/plain": [
       "'Woof!'"
      ]
     },
     "execution_count": 11,
     "metadata": {},
     "output_type": "execute_result"
    }
   ],
   "source": [
    "obj1.speak()"
   ]
  },
  {
   "cell_type": "code",
   "execution_count": 13,
   "id": "e812e527",
   "metadata": {},
   "outputs": [],
   "source": [
    "# 2- Multilevel Inheritance: In this type, a subclass inherits from another subclass, forming a chain of inheritance.\n",
    "class Vehicle:\n",
    "    def move(self):\n",
    "        pass\n",
    "\n",
    "class Car(Vehicle):\n",
    "    def drive(self):\n",
    "        pass\n",
    "\n",
    "class ElectricCar(Car):\n",
    "    def charge(self):\n",
    "        pass\n"
   ]
  },
  {
   "cell_type": "code",
   "execution_count": 14,
   "id": "b2b36bf3",
   "metadata": {},
   "outputs": [],
   "source": [
    "# 3- Hierarchical Inheritance: In this type, multiple subclasses inherit from a single superclass.\n",
    "class Shape:\n",
    "    def area(self):\n",
    "        pass\n",
    "\n",
    "class Circle(Shape):\n",
    "    def area(self):\n",
    "        pass\n",
    "\n",
    "class Rectangle(Shape):\n",
    "    def area(self):\n",
    "        pass\n"
   ]
  },
  {
   "cell_type": "code",
   "execution_count": 15,
   "id": "839c0a12",
   "metadata": {},
   "outputs": [],
   "source": [
    "# 4 - Hybrid (or Cyclic) Inheritance: This involves a combination of different inheritance types and can result in \n",
    "#    complex inheritance hierarchies.\n",
    "class A:\n",
    "    pass\n",
    "\n",
    "class B(A):\n",
    "    pass\n",
    "\n",
    "class C(B):\n",
    "    pass\n",
    "\n",
    "class D(A):\n",
    "    pass\n",
    "\n",
    "class E(D, C):\n",
    "    pass\n"
   ]
  },
  {
   "cell_type": "code",
   "execution_count": null,
   "id": "94671419",
   "metadata": {},
   "outputs": [],
   "source": []
  }
 ],
 "metadata": {
  "kernelspec": {
   "display_name": "Python 3 (ipykernel)",
   "language": "python",
   "name": "python3"
  },
  "language_info": {
   "codemirror_mode": {
    "name": "ipython",
    "version": 3
   },
   "file_extension": ".py",
   "mimetype": "text/x-python",
   "name": "python",
   "nbconvert_exporter": "python",
   "pygments_lexer": "ipython3",
   "version": "3.10.5"
  }
 },
 "nbformat": 4,
 "nbformat_minor": 5
}
