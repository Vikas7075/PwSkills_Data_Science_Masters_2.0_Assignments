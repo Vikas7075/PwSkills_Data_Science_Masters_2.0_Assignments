{
 "cells": [
  {
   "cell_type": "code",
   "execution_count": 13,
   "id": "c95e6492",
   "metadata": {},
   "outputs": [
    {
     "name": "stdout",
     "output_type": "stream",
     "text": [
      "Bike 120 100\n",
      "Car 200 150\n"
     ]
    }
   ],
   "source": [
    "'''\n",
    "Que-1. Create a vehicle class with an init method having instance variables as name_of_vehicle, max_speed \n",
    "and average_of_vehicle. \n",
    "'''\n",
    "\n",
    "class Vehicle:\n",
    "    def __init__(self,name_of_vehicle,max_speed,average_of_vehicle):\n",
    "        self.name_of_vehicle = name_of_vehicle\n",
    "        self.max_speed = max_speed\n",
    "        self.average_of_vehicle = average_of_vehicle\n",
    "bike = Vehicle('Bike',120,100)\n",
    "car = Vehicle('Car',200,150)\n",
    "\n",
    "print(bike.name_of_vehicle,bike.max_speed,bike.average_of_vehicle)\n",
    "print(car.name_of_vehicle,car.max_speed,car.average_of_vehicle)"
   ]
  },
  {
   "cell_type": "code",
   "execution_count": 19,
   "id": "40c7dc78",
   "metadata": {},
   "outputs": [
    {
     "name": "stdout",
     "output_type": "stream",
     "text": [
      "SUV has a seating capacity of 6 people\n",
      "Sedan has a seating capacity of 5 people\n"
     ]
    }
   ],
   "source": [
    "'''\n",
    "Que-2.  Create a child class car from the vehicle class created in Que 1, which will inherit the vehicle class. \n",
    "Create a method named seating_capacity which takes capacity as an argument and returns the name of \n",
    "the vehicle and its seating capacity\n",
    "'''\n",
    "\n",
    "class Car(Vehicle):\n",
    "    def __init__(self,name_of_vehicle,max_speed,average_of_vehicle):\n",
    "        super().__init__(name_of_vehicle,max_speed,average_of_vehicle)\n",
    "    def seating_capacity(self,capacity):\n",
    "        \n",
    "        return f\"{self.name_of_vehicle} has a seating capacity of {capacity} people\"\n",
    "    \n",
    "car = Car(\"SUV\",250,200)\n",
    "print(car.seating_capacity(6))\n",
    "sedan = Car(\"Sedan\",280,200)\n",
    "print(sedan.seating_capacity(5))"
   ]
  },
  {
   "cell_type": "code",
   "execution_count": 28,
   "id": "60aec015",
   "metadata": {},
   "outputs": [
    {
     "name": "stdout",
     "output_type": "stream",
     "text": [
      "This electric vehicle has a battery capacity of 75 kWh\n",
      "Toyota Prius has a max speed of 180 km/h.\n",
      " This engine is powered by a Hybrid engine.\n"
     ]
    }
   ],
   "source": [
    "'''\n",
    "Que-3. What is multiple inheritance? Write a python code to demonstrate multiple inheritance.\n",
    "\n",
    "Ans- Multiple inheritance is a concept in object-oriented programming where a class can inherit attributes and \n",
    "      behaviors from more than one parent class. This allows a derived class to inherit features from multiple base classes.\n",
    "      \n",
    "'''\n",
    "class Vehicle:\n",
    "    def __init__(self,name,max_speed):\n",
    "        self.name = name\n",
    "        self.max_speed = max_speed\n",
    "\n",
    "    def display_info(self):\n",
    "        return f\"{self.name} has a max speed of {self.max_speed} km/h.\"\n",
    "\n",
    "class Engine:\n",
    "    def __init__(self,Engine_type):\n",
    "        self.Engine_type = Engine_type\n",
    "    \n",
    "    def display_engine(self):\n",
    "        return f\" This engine is powered by a {self.Engine_type} engine.\"\n",
    "\n",
    "class ElectricVehicle(Vehicle):\n",
    "    def __init__(self,name,max_speed,battery_capacity):\n",
    "        super().__init__(name,max_speed)\n",
    "        self.battery_capacity = battery_capacity\n",
    "        \n",
    "    def display_battery_info(self):\n",
    "        return f\"This electric vehicle has a battery capacity of {self.battery_capacity} kWh\"\n",
    "    \n",
    "class HybridCar(Vehicle,Engine):\n",
    "    def __init__(self, name, max_speed, engine_type):\n",
    "        Vehicle.__init__(self, name, max_speed)\n",
    "        Engine.__init__(self, engine_type)\n",
    "\n",
    "    def display_all_info(self):\n",
    "        vehicle_info = self.display_info()\n",
    "        engine_info = self.display_engine()\n",
    "        return f\"{vehicle_info}\\n{engine_info}\"\n",
    "\n",
    "# Create instances to demonstrate multiple inheritance\n",
    "electric_car = ElectricVehicle(\"Tesla Model 3\", 250, 75)\n",
    "hybrid = HybridCar(\"Toyota Prius\", 180, \"Hybrid\")\n",
    "\n",
    "print(electric_car.display_battery_info())\n",
    "print(hybrid.display_all_info())"
   ]
  },
  {
   "cell_type": "code",
   "execution_count": 29,
   "id": "ad0f2c81",
   "metadata": {},
   "outputs": [
    {
     "name": "stdout",
     "output_type": "stream",
     "text": [
      "Name: Alice\n",
      "Age: 30\n",
      "Updated Name: Bob\n",
      "Updated Age: 25\n"
     ]
    }
   ],
   "source": [
    "'''\n",
    "Que-4. What are getter and setter in python? Create a class and create a getter and a setter method in this \n",
    "class.\n",
    "\n",
    "Ans- In Python, getters and setters are methods used to control the access and modification of attributes of a class. \n",
    "     They are used to implement data encapsulation and maintain proper encapsulation principles by providing controlled \n",
    "     access to attributes, rather than direct access.\n",
    "'''\n",
    "\n",
    "class Person:\n",
    "    def __init__(self, name, age):\n",
    "        self._name = name\n",
    "        self._age = age\n",
    "\n",
    "    # Getter method for name\n",
    "    def get_name(self):\n",
    "        return self._name\n",
    "\n",
    "    # Setter method for name\n",
    "    def set_name(self, new_name):\n",
    "        if isinstance(new_name, str):\n",
    "            self._name = new_name\n",
    "        else:\n",
    "            print(\"Name must be a string.\")\n",
    "\n",
    "    # Getter method for age\n",
    "    def get_age(self):\n",
    "        return self._age\n",
    "\n",
    "    # Setter method for age\n",
    "    def set_age(self, new_age):\n",
    "        if isinstance(new_age, int) and new_age >= 0:\n",
    "            self._age = new_age\n",
    "        else:\n",
    "            print(\"Age must be a non-negative integer.\")\n",
    "\n",
    "# Create an instance of Person\n",
    "person = Person(\"Alice\", 30)\n",
    "\n",
    "# Use the getter methods to access attributes\n",
    "print(\"Name:\", person.get_name())\n",
    "print(\"Age:\", person.get_age())\n",
    "\n",
    "# Use the setter methods to modify attributes\n",
    "person.set_name(\"Bob\")\n",
    "person.set_age(25)\n",
    "\n",
    "# Verify the changes using getter methods\n",
    "print(\"Updated Name:\", person.get_name())\n",
    "print(\"Updated Age:\", person.get_age())\n"
   ]
  },
  {
   "cell_type": "code",
   "execution_count": 30,
   "id": "6e8ea24e",
   "metadata": {},
   "outputs": [
    {
     "name": "stdout",
     "output_type": "stream",
     "text": [
      "Dog barks\n",
      "Cat meows\n"
     ]
    }
   ],
   "source": [
    "'''\n",
    "Que-5.What is method overriding in python? Write a python code to demonstrate method overriding.\n",
    "\n",
    "Ans- Method overriding in Python is a concept in object-oriented programming where a subclass provides a specific \n",
    "     implementation for a method that is already defined in its parent class. The overridden method in the subclass should \n",
    "     have the same name, parameters, and return type as the method in the parent class\n",
    "'''\n",
    "\n",
    "class Animal:\n",
    "    def speak(self):\n",
    "        return \"Animal speaks\"\n",
    "\n",
    "class Dog(Animal):\n",
    "    def speak(self):\n",
    "        return \"Dog barks\"\n",
    "\n",
    "class Cat(Animal):\n",
    "    def speak(self):\n",
    "        return \"Cat meows\"\n",
    "\n",
    "# Create instances of subclasses\n",
    "dog = Dog()\n",
    "cat = Cat()\n",
    "\n",
    "# Call the overridden method\n",
    "print(dog.speak())\n",
    "print(cat.speak())"
   ]
  },
  {
   "cell_type": "code",
   "execution_count": null,
   "id": "892215e1",
   "metadata": {},
   "outputs": [],
   "source": []
  }
 ],
 "metadata": {
  "kernelspec": {
   "display_name": "Python 3 (ipykernel)",
   "language": "python",
   "name": "python3"
  },
  "language_info": {
   "codemirror_mode": {
    "name": "ipython",
    "version": 3
   },
   "file_extension": ".py",
   "mimetype": "text/x-python",
   "name": "python",
   "nbconvert_exporter": "python",
   "pygments_lexer": "ipython3",
   "version": "3.10.5"
  }
 },
 "nbformat": 4,
 "nbformat_minor": 5
}
