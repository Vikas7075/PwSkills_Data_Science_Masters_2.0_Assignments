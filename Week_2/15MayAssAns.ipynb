{
 "cells": [
  {
   "cell_type": "code",
   "execution_count": null,
   "id": "d0a78221",
   "metadata": {},
   "outputs": [],
   "source": [
    "'''\n",
    "QUE- 1. How do you comment code in Python? What are the different types of comments?\n",
    "\n",
    "Ans - There are two types of comments use in python \n",
    "    1- Single line comments --> it is used by '#' symbol  --> #comments\n",
    "    2- Multiple line comments  --> it is used by triple quotes -->  ''' comments   '''\n",
    "    \n",
    "    when we write a code in between comments line , python complier ignore this code \n",
    "'''\n"
   ]
  },
  {
   "cell_type": "code",
   "execution_count": null,
   "id": "63693086",
   "metadata": {},
   "outputs": [],
   "source": [
    "'''\n",
    "QUE-2. What are variables in Python? How do you declare and assign values to variables?\n",
    "\n",
    "Ans- Variables is a type of container which is used to store data value and they acts as a placeholder for storing different\n",
    "types of information such as number, string, list or more complex data structures.\n",
    "\n",
    "To declare variable in python , you simply choose a name of varible and use to equal '=' to assign value.\n",
    "Examples. variable_name = value\n",
    "            name = \"Vikas\"\n",
    "            num = 10\n",
    "            list =[12,'vikas',12.3,{'key':'value'}]\n",
    "            \n",
    "\n",
    "'''"
   ]
  },
  {
   "cell_type": "code",
   "execution_count": 5,
   "id": "89a2fdd7",
   "metadata": {},
   "outputs": [
    {
     "name": "stdout",
     "output_type": "stream",
     "text": [
      "['Banana', 'appple']\n",
      "10\n"
     ]
    }
   ],
   "source": [
    "'''\n",
    "QUE-3. How do you convert one data type to another in Python?\n",
    "\n",
    "Ans- By using typecasting to convert one type data to another such as data_type(value).\n",
    "for example \n",
    "'''\n",
    "num_str = \"10\"\n",
    "num_int = int(num_str)\n",
    "my_tuple=(\"Banana\",\"appple\")\n",
    "my_list = list(my_tuple)\n",
    "print(my_list)\n",
    "print(num_int)"
   ]
  },
  {
   "cell_type": "code",
   "execution_count": null,
   "id": "0f82aca4",
   "metadata": {},
   "outputs": [],
   "source": [
    "'''\n",
    "QUE-4. How do you write and execute a Python script from the command line?\n",
    "\n",
    "Ans- first write a python code in code editor and save file as .py extension after save open cmd go to file where save python code\n",
    " and type \"pyhton file_name.py\" \n",
    " \n",
    "'''"
   ]
  },
  {
   "cell_type": "code",
   "execution_count": 7,
   "id": "d7fdb570",
   "metadata": {},
   "outputs": [
    {
     "name": "stdout",
     "output_type": "stream",
     "text": [
      "[2, 3]\n"
     ]
    }
   ],
   "source": [
    "'''\n",
    "QUE-5. Given a list my_list = [1, 2, 3, 4, 5], write the code to slice the list and obtain the sub-list [2, 3].\n",
    "'''\n",
    "my_list = [1,2,3,4,5]\n",
    "sub_list = my_list[1:3]\n",
    "print(sub_list)"
   ]
  },
  {
   "cell_type": "code",
   "execution_count": 9,
   "id": "82aa4377",
   "metadata": {},
   "outputs": [
    {
     "name": "stdout",
     "output_type": "stream",
     "text": [
      "3.0\n",
      "4.0\n"
     ]
    }
   ],
   "source": [
    "'''\n",
    "QUE-6. What is a complex number in mathematics, and how is it represented in Python?\n",
    "Ans- Complex number is a number that comprises both a real part and an imaginary part.\n",
    "   It is expressed in the form \"a + bi\", where \"a\" is the real part, \"b\" is the imaginary part.\n",
    "'''\n",
    "\n",
    "z = 3+4j\n",
    "print(z.real)\n",
    "print(z.imag)"
   ]
  },
  {
   "cell_type": "code",
   "execution_count": 10,
   "id": "13313d1c",
   "metadata": {},
   "outputs": [
    {
     "name": "stdout",
     "output_type": "stream",
     "text": [
      "25\n"
     ]
    }
   ],
   "source": [
    "'''\n",
    "QUE-7. What is the correct way to declare a variable named age and assign the value 25 to it?\n",
    "'''\n",
    "age = 25\n",
    "print(age)"
   ]
  },
  {
   "cell_type": "code",
   "execution_count": 11,
   "id": "dd3e7938",
   "metadata": {},
   "outputs": [
    {
     "name": "stdout",
     "output_type": "stream",
     "text": [
      "<class 'float'>\n"
     ]
    }
   ],
   "source": [
    "'''\n",
    "QUE-8. Declare a variable named price and assign the value 9.99 to it. What data type does this variable \n",
    "belong to?\n",
    "'''\n",
    "price = 9.99\n",
    "print(type(price))"
   ]
  },
  {
   "cell_type": "code",
   "execution_count": 12,
   "id": "87b42c3f",
   "metadata": {},
   "outputs": [
    {
     "name": "stdout",
     "output_type": "stream",
     "text": [
      "Vikas Prajapati\n"
     ]
    }
   ],
   "source": [
    "'''\n",
    "QUE-9. Create a variable named name and assign your full name to it as a string. How would you print the \n",
    "value of this variable?\n",
    "'''\n",
    "\n",
    "name = \"Vikas Prajapati\"\n",
    "print(name)"
   ]
  },
  {
   "cell_type": "code",
   "execution_count": 13,
   "id": "0ecc5484",
   "metadata": {},
   "outputs": [
    {
     "name": "stdout",
     "output_type": "stream",
     "text": [
      "World\n"
     ]
    }
   ],
   "source": [
    "'''\n",
    "QUE-10. Given the string \"Hello, World!\", extract the substring \"World\".\n",
    "'''\n",
    "my_str = \"Hello, World!\"\n",
    "sub_str = my_str[7:12]\n",
    "print(sub_str)"
   ]
  },
  {
   "cell_type": "code",
   "execution_count": 15,
   "id": "a29c6fb5",
   "metadata": {},
   "outputs": [
    {
     "name": "stdout",
     "output_type": "stream",
     "text": [
      "True\n"
     ]
    }
   ],
   "source": [
    "'''\n",
    "QUE-11. Create a variable named \"is_student\" and assign it a boolean value indicating whether you are \n",
    "currently a student or not\n",
    "'''\n",
    "is_student= True\n",
    "print(is_student)"
   ]
  },
  {
   "cell_type": "code",
   "execution_count": null,
   "id": "953157f4",
   "metadata": {},
   "outputs": [],
   "source": []
  }
 ],
 "metadata": {
  "kernelspec": {
   "display_name": "Python 3 (ipykernel)",
   "language": "python",
   "name": "python3"
  },
  "language_info": {
   "codemirror_mode": {
    "name": "ipython",
    "version": 3
   },
   "file_extension": ".py",
   "mimetype": "text/x-python",
   "name": "python",
   "nbconvert_exporter": "python",
   "pygments_lexer": "ipython3",
   "version": "3.10.5"
  }
 },
 "nbformat": 4,
 "nbformat_minor": 5
}
