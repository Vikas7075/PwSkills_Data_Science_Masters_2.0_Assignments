{
 "cells": [
  {
   "cell_type": "code",
   "execution_count": 1,
   "id": "223487d0",
   "metadata": {},
   "outputs": [],
   "source": [
    "'''\n",
    "QUE-1. Create one variable containing following type of data:\n",
    "(i) string\n",
    "(ii) list\n",
    "(iii) float\n",
    "(iv) tuple\n",
    "'''\n",
    "## Ans\n",
    "name = \"Jai Shree Ram \"\n",
    "l1 = ['Vikas','Ram','Shyam']\n",
    "num = 12\n",
    "t1 =('Apple','Banana','Cherry')"
   ]
  },
  {
   "cell_type": "code",
   "execution_count": 2,
   "id": "1a5b0397",
   "metadata": {},
   "outputs": [
    {
     "name": "stdout",
     "output_type": "stream",
     "text": [
      "<class 'str'> <class 'list'> <class 'int'> <class 'tuple'>\n"
     ]
    }
   ],
   "source": [
    "print(type(name),type(l1),type(num),type(t1))"
   ]
  },
  {
   "cell_type": "code",
   "execution_count": null,
   "id": "74e9ac07",
   "metadata": {},
   "outputs": [],
   "source": [
    "'''\n",
    "QUE-2. Given are some following variables containing data:\n",
    "     What will be the data type of the given variable.\n",
    "(i) var1 = ‘ ‘   -- unexpected comma\n",
    "(ii) var2 = ‘[ DS , ML , Python]’   --unexpected camma\n",
    "(iii) var3 = [ ‘DS’ , ’ML’ , ‘Python’ ]  --unexpected camma\n",
    "(iv) var4 = 1.   -- integer \n",
    "'''"
   ]
  },
  {
   "cell_type": "code",
   "execution_count": null,
   "id": "15aff868",
   "metadata": {},
   "outputs": [],
   "source": [
    "'''\n",
    "QUE-3. Explain the use of the following operators using an example:\n",
    "(i) /  \n",
    "(ii) %\n",
    "(iii) //\n",
    "(iv) **\n",
    "\n",
    "(i) Ans- Division operator '/' used to divide one number by another and return as quotient in floting point(decimal).\n",
    "\n",
    "(ii) Ans- Modulus operator '%' return remainder when one number is divided by another. \n",
    "\n",
    "(iii) Ans- Floor Division Operator '//' perform division and returns the whole number quotient discarding the decimal point.\n",
    "\n",
    "(iv) Ans- Exponentiation operator '**' raise a number to certain power and it calculates the base raised to the power of the exponent.\n",
    "     example 2**3 = 8\n",
    "     \n",
    "'''"
   ]
  },
  {
   "cell_type": "code",
   "execution_count": 11,
   "id": "fb471df4",
   "metadata": {},
   "outputs": [
    {
     "name": "stdout",
     "output_type": "stream",
     "text": [
      "Ram | Data Type <class 'str'>\n",
      "12.5 | Data Type <class 'float'>\n",
      "10 | Data Type <class 'int'>\n",
      "('Apple', 'Mango') | Data Type <class 'tuple'>\n",
      "[1, 2, 3] | Data Type <class 'list'>\n",
      "{'value', 'key'} | Data Type <class 'set'>\n",
      "(2+3j) | Data Type <class 'complex'>\n"
     ]
    }
   ],
   "source": [
    "'''\n",
    "QUE-4. Create a list of length 10 of your choice containing multiple types of data. Using for loop print the\n",
    "element and its data type.\n",
    "'''\n",
    "l1 = ['Ram',12.5,10,('Apple','Mango'),[1,2,3],{\"key\",\"value\"},complex(2,3)]\n",
    "for i in l1:\n",
    "    print(f\"{i} | Data Type {type(i)}\")"
   ]
  },
  {
   "cell_type": "code",
   "execution_count": 38,
   "id": "d83759cd",
   "metadata": {},
   "outputs": [
    {
     "name": "stdout",
     "output_type": "stream",
     "text": [
      "Enter the dividend (Number A):  124\n",
      "Enter the divisor (Number B):  2\n",
      " 2 divides 124 - 62 times.\n"
     ]
    }
   ],
   "source": [
    "'''\n",
    "QUE-5. Using a while loop, verify if the number A is purely divisible by number B and if so then how many\n",
    "times it can be divisible.\n",
    "'''\n",
    "A = int(input(\"Enter the dividend (Number A):  \"))\n",
    "B = int(input(\"Enter the divisor (Number B):  \"))\n",
    "\n",
    "if B==0:\n",
    "    print(\"Can't divide by zero...\")\n",
    "else:\n",
    "    count =0\n",
    "    while A>=B:\n",
    "        if(A%B==0):\n",
    "            A -=B\n",
    "            count +=1\n",
    "if count > 0:\n",
    "    print(f\" {B} divides {A+B*count} - {count} times.\")"
   ]
  },
  {
   "cell_type": "code",
   "execution_count": 42,
   "id": "4a721255",
   "metadata": {},
   "outputs": [
    {
     "name": "stdout",
     "output_type": "stream",
     "text": [
      "2 is not divisible by 3 \n",
      "34 is not divisible by 3 \n",
      "54 is divisible by 3\n",
      "5 is not divisible by 3 \n",
      "15 is divisible by 3\n",
      "24 is divisible by 3\n",
      "54 is divisible by 3\n",
      "23 is not divisible by 3 \n",
      "57 is divisible by 3\n",
      "8 is not divisible by 3 \n",
      "32 is not divisible by 3 \n",
      "47 is not divisible by 3 \n",
      "33 is divisible by 3\n",
      "23 is not divisible by 3 \n",
      "56 is not divisible by 3 \n",
      "88 is not divisible by 3 \n",
      "96 is divisible by 3\n",
      "99 is divisible by 3\n",
      "30 is divisible by 3\n",
      "26 is not divisible by 3 \n",
      "83 is not divisible by 3 \n",
      "59 is not divisible by 3 \n",
      "64 is not divisible by 3 \n",
      "44 is not divisible by 3 \n",
      "34 is not divisible by 3 \n"
     ]
    }
   ],
   "source": [
    "'''\n",
    "QUE-6. Create a list containing 25 int type data. Using for loop and if-else condition print if the element is\n",
    "divisible by 3 or not.\n",
    "'''\n",
    "data_list = [2,34,54,5,15,24,54,23,57,8,32,47,33,23,56,88,96,99,30,26,83,59,64,44,34]\n",
    "\n",
    "for i in data_list:\n",
    "    if(i%3==0):\n",
    "        print(f\"{i} is divisible by 3\")\n",
    "    else:\n",
    "        print(f\"{i} is not divisible by 3 \")"
   ]
  },
  {
   "cell_type": "code",
   "execution_count": 46,
   "id": "1bacb50e",
   "metadata": {},
   "outputs": [
    {
     "name": "stdout",
     "output_type": "stream",
     "text": [
      "[10, 2, 3]\n",
      "HELLO\n"
     ]
    }
   ],
   "source": [
    "'''\n",
    "QUE-7. What do you understand about mutable and immutable data types? Give examples for both showing\n",
    "this property.\n",
    "'''\n",
    "##  Mutable data types allow you to modify their content or properties without creating a new instance.\n",
    "# Lists are mutable\n",
    "mutable_list = [1, 2, 3]\n",
    "mutable_list[0] = 10\n",
    "print(mutable_list)\n",
    "\n",
    "##  Immutable data types,cannot be changed after creation.\n",
    "\n",
    "# Strings are immutable\n",
    "immutable_string = \"hello\"\n",
    "immutable_string = immutable_string.upper()\n",
    "print(immutable_string)\n"
   ]
  },
  {
   "cell_type": "code",
   "execution_count": null,
   "id": "2182d85e",
   "metadata": {},
   "outputs": [],
   "source": []
  }
 ],
 "metadata": {
  "kernelspec": {
   "display_name": "Python 3 (ipykernel)",
   "language": "python",
   "name": "python3"
  },
  "language_info": {
   "codemirror_mode": {
    "name": "ipython",
    "version": 3
   },
   "file_extension": ".py",
   "mimetype": "text/x-python",
   "name": "python",
   "nbconvert_exporter": "python",
   "pygments_lexer": "ipython3",
   "version": "3.10.5"
  }
 },
 "nbformat": 4,
 "nbformat_minor": 5
}
