{
 "cells": [
  {
   "cell_type": "markdown",
   "id": "a2bceae5",
   "metadata": {},
   "source": [
    "# Que-1. What is a database? Differentiate between SQL and NoSQL databases."
   ]
  },
  {
   "cell_type": "markdown",
   "id": "6bccfb0a",
   "metadata": {},
   "source": [
    "A database is a structured collection of data that is organized and stored in a way that allows for efficient retrieval,\n",
    "updating, and management of that data. Databases are used to store and manage large amounts of information, making it easier\n",
    "to perform tasks like querying for specific data, updating records, and ensuring data integrity. Databases are a crucial\n",
    "component of most software applications and are used for various purposes, including storing customer information, product \n",
    "catalogs, financial records, and more.\n",
    "\n",
    "SQL Databases:\n",
    "SQL databases are relational databases that use structured query language (SQL) for defining and manipulating the data.\n",
    "\n",
    "NoSQL Databases:\n",
    "NoSQL databases are a diverse group of databases that depart from the traditional relational model. They are designed to handle various types of data, including unstructured and semi-structured data.\n",
    "\n",
    "Key Differences:\n",
    "\n",
    "Data Model: SQL databases use a structured, tabular data model, while NoSQL databases offer various data models, such as document-oriented, key-value, column-family, and graph.\n",
    "\n",
    "Schema: SQL databases have a fixed schema, whereas NoSQL databases often have a flexible or schemaless approach.\n",
    "\n",
    "Scaling: NoSQL databases are typically better suited for horizontal scaling and distributed architectures, making them more suitable for handling large and dynamic datasets.\n",
    "\n",
    "Transaction Support: SQL databases are ACID-compliant, ensuring strong consistency and transaction support. NoSQL databases may sacrifice some ACID properties in favor of performance and scalability.\n",
    "\n",
    "Use Cases: SQL databases are often used for applications with structured data and complex queries, such as financial systems and traditional relational applications. NoSQL databases are favored for applications with rapidly changing data, big data, and real-time analytics."
   ]
  },
  {
   "cell_type": "markdown",
   "id": "0ed8e0f9",
   "metadata": {},
   "source": [
    "# Que-2. What is DDL? Explain why CREATE, DROP, ALTER, and TRUNCATE are used with an example."
   ]
  },
  {
   "cell_type": "markdown",
   "id": "28b82908",
   "metadata": {},
   "source": [
    "DDL (Data Definition Language): DDL stands for Data Definition Language, which is a subset of SQL (Structured Query Language)\n",
    " used for defining and managing the structure of a database. DDL statements are responsible for creating, altering, and\n",
    " deleting database objects like tables, indexes, and schemas.\n",
    "    \n",
    "1- CREATE: The CREATE statement is used to create new database objects, such as tables, indexes, views, or schemas.\n",
    "It defines the structure and characteristics of the object. For example, to create a new table named employees in an SQL \n",
    "database:\n",
    "  \n",
    "    CREATE TABLE employees (\n",
    "    employee_id INT PRIMARY KEY,\n",
    "    first_name VARCHAR(50),\n",
    "    last_name VARCHAR(50),\n",
    "    hire_date DATE\n",
    "    );\n",
    "    \n",
    "2-DROP: The DROP statement is used to delete database objects, such as tables, indexes, or views. It removes the object and all associated data. For example, to delete the employees table:   \n",
    "   DROP TABLE employees;\n",
    "\n",
    "3-ALTER: The ALTER statement is used to modify the structure of an existing database object. It can be used to add, modify, or delete columns, change data types, or add constraints to a table. For example, to add a new column named email to the employees table:\n",
    " ALTER TABLE employees\n",
    " ADD COLUMN email VARCHAR(100);\n",
    "\n",
    "4-TRUNCATE: The TRUNCATE statement is used to remove all rows from a table while keeping the table structure intact. It is faster and more efficient than the DELETE statement, which removes individual rows. For example, to remove all data from the employees table:  TRUNCATE TABLE employees;\n"
   ]
  },
  {
   "cell_type": "markdown",
   "id": "5b486b1f",
   "metadata": {},
   "source": [
    "# Que-3. What is DML? Explain INSERT, UPDATE, and DELETE with an example."
   ]
  },
  {
   "cell_type": "markdown",
   "id": "2056acd5",
   "metadata": {},
   "source": [
    "DML (Data Manipulation Language): DML is a subset of SQL (Structured Query Language) that is used to manipulate data stored \n",
    "in a database. DML statements are responsible for inserting, updating, and deleting data in database tables. These statements \n",
    "allow you to interact with and modify the content of a database.\n",
    "\n",
    "1-INSERT:\n",
    "The INSERT statement is used to add new rows (records) into a database table.\n",
    "You can specify the values for each column in the inserted row or use a subquery to retrieve data from another table and insert it into the target table.\n",
    "Example 1: Inserting a single row with explicit values:\n",
    "        INSERT INTO employees (employee_id, first_name, last_name, hire_date)\n",
    "        VALUES (1, 'John', 'Doe', '2023-01-15');\n",
    "\n",
    "Inserting multiple rows using subquery :\n",
    "INSERT INTO employees (employee_id, first_name, last_name, hire_date)\n",
    "SELECT employee_id, first_name, last_name, hire_date FROM new_hires;\n",
    "\n",
    "2-UPDATE:\n",
    "\n",
    "The UPDATE statement is used to modify existing data in a database table.\n",
    "You specify the table to update, the columns to change, and the new values for those columns. You can also include a WHERE clause to specify which rows should be updated.\n",
    "Example: Updating the salary of an employee with a specific employee ID:\n",
    "\n",
    "UPDATE employees\n",
    "SET salary = 55000\n",
    "WHERE employee_id = 1;\n",
    "\n",
    "3-DELETE:\n",
    "\n",
    "The DELETE statement is used to remove rows from a database table based on a specified condition.\n",
    "You specify the table from which to delete data and use a WHERE clause to specify which rows should be deleted. If you omit the WHERE clause, it will delete all rows in the table.\n",
    "Example 1: Deleting a specific row by employee ID:\n",
    "DELETE FROM employees\n",
    "WHERE employee_id = 1;\n"
   ]
  },
  {
   "cell_type": "markdown",
   "id": "61717a7c",
   "metadata": {},
   "source": [
    "# Que-4. What is DQL? Explain SELECT with an example."
   ]
  },
  {
   "cell_type": "markdown",
   "id": "068a100e",
   "metadata": {},
   "source": [
    "DQL (Data Query Language): DQL is a subset of SQL (Structured Query Language) used for querying and retrieving data from a \n",
    "database. DQL statements are primarily focused on selecting and fetching data from one or more database tables. \n",
    "The most common DQL statement is SELECT.\n",
    "\n",
    "SELECT:\n",
    "The SELECT statement is used to retrieve data from one or more database tables.\n",
    "It allows you to specify which columns you want to retrieve, the table(s) from which to retrieve data, and optional filtering \n",
    "criteria to narrow down the results.\n",
    "The result of a SELECT statement is a result set, which is a collection of rows that match the specified criteria.\n",
    "\n",
    "SELECT column1, column2, ...\n",
    "FROM table_name\n",
    "WHERE condition;\n",
    "\n",
    "SELECT first_name, last_name\n",
    "FROM employees\n",
    "WHERE department = 'HR';\n"
   ]
  },
  {
   "cell_type": "markdown",
   "id": "0908801c",
   "metadata": {},
   "source": [
    "# Que-5. Explain Primary Key and Foreign Key."
   ]
  },
  {
   "cell_type": "markdown",
   "id": "346ddd97",
   "metadata": {},
   "source": [
    "Primary Key:\n",
    "A primary key is a constraint in a relational database that ensures the uniqueness and integrity of a column or a set of columns\n",
    "within a table. It serves as a unique identifier for each row in the table, allowing for the identification and retrieval of \n",
    "specific rows.\n",
    "\n",
    "Foreign Key:\n",
    "A foreign key is a constraint in a relational database that establishes a link between two tables, typically referred to as the\n",
    "parent table (containing the primary key) and the child table (containing the foreign key). The foreign key in the child table\n",
    "references the primary key in the parent table, creating a relationship between the two tables.\n"
   ]
  },
  {
   "cell_type": "markdown",
   "id": "f1b75bd4",
   "metadata": {},
   "source": [
    "# Que-6. Write a python code to connect MySQL to python. Explain the cursor() and execute() method."
   ]
  },
  {
   "cell_type": "code",
   "execution_count": 7,
   "id": "d722b896",
   "metadata": {},
   "outputs": [
    {
     "name": "stdout",
     "output_type": "stream",
     "text": [
      "Requirement already satisfied: mysql-connector-python in c:\\users\\pc\\appdata\\local\\programs\\python\\python310\\lib\\site-packages (8.0.29)\n",
      "Requirement already satisfied: protobuf>=3.0.0 in c:\\users\\pc\\appdata\\local\\programs\\python\\python310\\lib\\site-packages (from mysql-connector-python) (4.21.2)\n",
      "Note: you may need to restart the kernel to use updated packages.\n"
     ]
    }
   ],
   "source": [
    "pip install mysql-connector-python"
   ]
  },
  {
   "cell_type": "code",
   "execution_count": null,
   "id": "edbbc80d",
   "metadata": {},
   "outputs": [],
   "source": [
    "import mysql.connector\n",
    "\n",
    "# Define the database connection parameters\n",
    "config = {\n",
    "    'user': 'root',\n",
    "    'password': 'root',\n",
    "    'host': 'localhost',\n",
    "    'database': 'employeedb',\n",
    "}\n",
    "\n",
    "# Create a database connection\n",
    "try:\n",
    "    connection = mysql.connector.connect(**config)\n",
    "\n",
    "    # Check if the connection is successful\n",
    "    if connection.is_connected():\n",
    "        print(\"Connected to the MySQL database\")\n",
    "\n",
    "        # Create a cursor object\n",
    "        cursor = connection.cursor()\n",
    "\n",
    "        # Execute SQL queries using the cursor\n",
    "        # Example 1: Create a table\n",
    "        create_table_query = \"\"\"\n",
    "        CREATE TABLE IF NOT EXISTS employees (\n",
    "            employee_id INT AUTO_INCREMENT PRIMARY KEY,\n",
    "            first_name VARCHAR(255),\n",
    "            last_name VARCHAR(255),\n",
    "            department VARCHAR(255)\n",
    "        )\n",
    "        \"\"\"\n",
    "        cursor.execute(create_table_query)\n",
    "        print(\"Table 'employees' created or already exists.\")\n",
    "\n",
    "        # Example 2: Insert data into the table\n",
    "        insert_query = \"\"\"\n",
    "        INSERT INTO employees (first_name, last_name, department)\n",
    "        VALUES ('John', 'Doe', 'HR')\n",
    "        \"\"\"\n",
    "        cursor.execute(insert_query)\n",
    "        connection.commit()\n",
    "        print(\"Data inserted successfully.\")\n",
    "\n",
    "        # Example 3: Select data from the table\n",
    "        select_query = \"SELECT * FROM employees\"\n",
    "        cursor.execute(select_query)\n",
    "        records = cursor.fetchall()\n",
    "        print(\"Employee records:\")\n",
    "        for record in records:\n",
    "            print(record)\n",
    "\n",
    "except mysql.connector.Error as error:\n",
    "    print(f\"Error: {error}\")\n",
    "finally:\n",
    "    # Close the cursor and database connection\n",
    "    if 'cursor' in locals():\n",
    "        cursor.close()\n",
    "    if 'connection' in locals() and connection.is_connected():\n",
    "        connection.close()\n",
    "        print(\"Database connection closed.\")\n"
   ]
  },
  {
   "cell_type": "markdown",
   "id": "50c9e378",
   "metadata": {},
   "source": [
    "cursor():\n",
    "The cursor() method creates a cursor object that allows you to interact with the database. A cursor is like a pointer or handle\n",
    "that you can use to execute SQL queries and fetch results.\n",
    "It is used to establish a context for executing SQL statements within a database connection.\n",
    "\n",
    "execute():\n",
    "The execute() method is used to execute SQL queries and statements. It takes an SQL query or statement as its argument and sends\n",
    "it to the database for execution.\n",
    "For data manipulation statements (e.g., INSERT, UPDATE, DELETE), you may need to call commit() on the database connection after\n",
    "executing the query to make the changes permanent.\n",
    "For data retrieval statements (e.g., SELECT), you can use methods like fetchone(), fetchall(), or fetchmany() on the cursor to\n",
    "retrieve the query results."
   ]
  },
  {
   "cell_type": "markdown",
   "id": "a994e56b",
   "metadata": {},
   "source": [
    "# Que-7. Give the order of execution of SQL clauses in an SQL query."
   ]
  },
  {
   "cell_type": "markdown",
   "id": "3a80e12c",
   "metadata": {},
   "source": [
    "The order of execution of SQL clauses in a query is generally as follows:\n",
    "\n",
    "SELECT: The SELECT clause specifies the columns to be retrieved from the database. It determines which data will be returned in\n",
    "the result set.\n",
    "\n",
    "FROM: The FROM clause specifies the table or tables from which the data will be retrieved. It defines the source of the data.\n",
    "\n",
    "WHERE: The WHERE clause (optional) filters the rows from the tables specified in the FROM clause based on a specified condition.\n",
    "It restricts the rows that are included in the result set.\n",
    "\n",
    "GROUP BY: The GROUP BY clause (optional) is used to group rows that have the same values in specified columns into summary rows.\n",
    "It is typically used with aggregate functions like SUM, COUNT, AVG, etc., to perform calculations on grouped data.\n",
    "\n",
    "HAVING: The HAVING clause (optional) filters the grouped rows based on a specified condition. It is similar to the WHERE clause \n",
    "but is used after the GROUP BY clause to filter grouped data.\n",
    "\n",
    "ORDER BY: The ORDER BY clause (optional) specifies the order in which the result set should be sorted. It sorts the rows based\n",
    "on one or more columns, either in ascending (ASC) or descending (DESC) order.\n",
    "\n",
    "LIMIT/OFFSET: The LIMIT and OFFSET clauses (optional) are used for result set pagination. LIMIT specifies the maximum number of \n",
    "rows to be returned, and OFFSET specifies the starting point from which to retrieve rows.\n",
    "\n",
    "UNION/INTERSECT/EXCEPT: If multiple queries are combined using set operators like UNION, INTERSECT, or EXCEPT, these operators \n",
    "determine how the result sets of the individual queries are combined.\n",
    "\n",
    "DISTINCT: The DISTINCT keyword (optional) is used to eliminate duplicate rows from the result set, ensuring that only unique \n",
    "rows are returned."
   ]
  },
  {
   "cell_type": "code",
   "execution_count": null,
   "id": "dd9e5dbc",
   "metadata": {},
   "outputs": [],
   "source": []
  }
 ],
 "metadata": {
  "kernelspec": {
   "display_name": "Python 3 (ipykernel)",
   "language": "python",
   "name": "python3"
  },
  "language_info": {
   "codemirror_mode": {
    "name": "ipython",
    "version": 3
   },
   "file_extension": ".py",
   "mimetype": "text/x-python",
   "name": "python",
   "nbconvert_exporter": "python",
   "pygments_lexer": "ipython3",
   "version": "3.10.5"
  }
 },
 "nbformat": 4,
 "nbformat_minor": 5
}
