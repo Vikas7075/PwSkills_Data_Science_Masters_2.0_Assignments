{
 "cells": [
  {
   "cell_type": "code",
   "execution_count": 1,
   "id": "a298e186",
   "metadata": {},
   "outputs": [
    {
     "name": "stdout",
     "output_type": "stream",
     "text": [
      "[1, 3, 5, 7, 9, 11, 13, 15, 17, 19, 21, 23, 25]\n"
     ]
    }
   ],
   "source": [
    "'''\n",
    "Que-1. Which keyword is used to create a function? Create a function to return a list of odd numbers in the \n",
    "range of 1 to 25.\n",
    "\n",
    "Ans - The keyword is used to create a function in python programmming is 'def'.\n",
    "'''\n",
    "def get_odd_num():\n",
    "    odd_num= []\n",
    "    for i in range(1,26):\n",
    "        if i%2 !=0 :\n",
    "            odd_num.append(i)\n",
    "    return odd_num\n",
    "result = get_odd_num()\n",
    "print(result)"
   ]
  },
  {
   "cell_type": "code",
   "execution_count": 14,
   "id": "01536ac2",
   "metadata": {},
   "outputs": [],
   "source": [
    "'''\n",
    "Que-2. Why *args and **kwargs is used in some functions? Create a function each for *args and **kwargs \n",
    "to demonstrate their use.\n",
    "\n",
    "Ans- '*args' this notation is used to pass variable number of non-keywords arguments to a function.\n",
    "     '**kwargs' this notation is used to pass variable number of keywords arguments to a function.\n",
    "'''\n",
    "# *args example \n",
    "def sum_num(*args):\n",
    "    total =0\n",
    "    for i in args:\n",
    "        total +=i\n",
    "    return total\n",
    "\n",
    "# **kwargs example\n",
    "def print_info(**kwargs):\n",
    "    for key, value in kwargs.items():\n",
    "        print(f\"{key}: {value}\")\n"
   ]
  },
  {
   "cell_type": "code",
   "execution_count": 18,
   "id": "1f889e16",
   "metadata": {},
   "outputs": [
    {
     "name": "stdout",
     "output_type": "stream",
     "text": [
      "15\n",
      "name: Alice\n",
      "age: 30\n",
      "country: USA\n"
     ]
    }
   ],
   "source": [
    "result = sum_num(1,2,3,4,5)\n",
    "print(result)\n",
    "\n",
    "print_info(name=\"Alice\", age=30, country=\"USA\")"
   ]
  },
  {
   "cell_type": "code",
   "execution_count": 19,
   "id": "bef04d87",
   "metadata": {},
   "outputs": [
    {
     "name": "stdout",
     "output_type": "stream",
     "text": [
      "2\n",
      "4\n",
      "6\n",
      "8\n",
      "10\n"
     ]
    }
   ],
   "source": [
    "'''\n",
    "Que-3.  What is an iterator in python? Name the method used to initialise the iterator object and the method \n",
    "used for iteration. Use these methods to print the first five elements of the given list [2, 4, 6, 8, 10, 12, 14, \n",
    "16, 18, 20].\n",
    "\n",
    "Ans- Iterator is an object that allows to iterate over a sequence of items such as list, tuple etc.it provides way to access \n",
    "   one by one element without having to know internal details.\n",
    "   we need to use to keywords such as iter() and next()\n",
    "'''\n",
    "my_list = [2,4,6,8,10,12,14,16,18,20]\n",
    "my_iterator=iter(my_list)\n",
    "\n",
    "for _ in range(5):\n",
    "    element = next(my_iterator)\n",
    "    print(element)"
   ]
  },
  {
   "cell_type": "code",
   "execution_count": 2,
   "id": "8f5aad09",
   "metadata": {},
   "outputs": [
    {
     "name": "stdout",
     "output_type": "stream",
     "text": [
      "0\n",
      "1\n",
      "4\n",
      "9\n",
      "16\n"
     ]
    }
   ],
   "source": [
    "'''\n",
    "Que-4.  What is a generator function in python? Why yield keyword is used? Give an example of a generator \n",
    "function.\n",
    "\n",
    "Ans- A generator function is used in python to return iterators (generator) when it called.\n",
    "     generator functions is used 'yield' keyword to produce series of value on the fly as requested by the iterator.\n",
    "'''\n",
    "\n",
    "def square_num(n):\n",
    "    for i in range(n):\n",
    "        yield i**2\n",
    "        \n",
    "my_generator = square_num(5)\n",
    "for num in my_generator:\n",
    "    print(num)"
   ]
  },
  {
   "cell_type": "code",
   "execution_count": 3,
   "id": "1eb6140d",
   "metadata": {},
   "outputs": [
    {
     "name": "stdout",
     "output_type": "stream",
     "text": [
      "2\n",
      "3\n",
      "5\n",
      "7\n",
      "11\n",
      "13\n",
      "17\n",
      "19\n",
      "23\n",
      "29\n",
      "31\n",
      "37\n",
      "41\n",
      "43\n",
      "47\n",
      "53\n",
      "59\n",
      "61\n",
      "67\n",
      "71\n"
     ]
    }
   ],
   "source": [
    "'''\n",
    "Que-5. Create a generator function for prime numbers less than 1000. Use the next() method to print the \n",
    "first 20 prime numbers.\n",
    "'''\n",
    "\n",
    "def is_prime(num):\n",
    "    if num <= 1:\n",
    "        return False\n",
    "    if num <= 3:\n",
    "        return True\n",
    "    if num % 2 == 0 or num % 3 == 0:\n",
    "        return False\n",
    "    i = 5\n",
    "    while i * i <= num:\n",
    "        if num % i == 0 or num % (i + 2) == 0:\n",
    "            return False\n",
    "        i += 6\n",
    "    return True\n",
    "\n",
    "def prime_generator(limit):\n",
    "    num = 2\n",
    "    count = 0\n",
    "    while count < limit:\n",
    "        if is_prime(num):\n",
    "            yield num\n",
    "            count += 1\n",
    "        num += 1\n",
    "\n",
    "# Using the generator to print the first 20 prime numbers\n",
    "prime_gen = prime_generator(20)\n",
    "for _ in range(20):\n",
    "    print(next(prime_gen))\n"
   ]
  },
  {
   "cell_type": "code",
   "execution_count": 4,
   "id": "bba3d8ce",
   "metadata": {},
   "outputs": [
    {
     "name": "stdout",
     "output_type": "stream",
     "text": [
      "[0, 1, 1, 2, 3, 5, 8, 13, 21]\n"
     ]
    }
   ],
   "source": [
    "'''\n",
    "Que-6. Write a python program to print the first 10 Fibonacci numbers using a while loop.\n",
    "'''\n",
    "\n",
    "def fibonacci(n):\n",
    "    fib_numbers =[0,1]\n",
    "    while len(fib_numbers)<n:\n",
    "        next_fib = fib_numbers[-1]+fib_numbers[-2]\n",
    "        fib_numbers.append(next_fib)\n",
    "    return fib_numbers\n",
    "\n",
    "fibonacci_numbers = fibonacci(9)\n",
    "print(fibonacci_numbers)"
   ]
  },
  {
   "cell_type": "code",
   "execution_count": 5,
   "id": "ff48aa3c",
   "metadata": {},
   "outputs": [
    {
     "name": "stdout",
     "output_type": "stream",
     "text": [
      "['p', 'w', 's', 'k', 'i', 'l', 'l', 's']\n"
     ]
    }
   ],
   "source": [
    "'''\n",
    "Que-7. Write a List Comprehension to iterate through the given string: ‘pwskills’.\n",
    "\n",
    "Expected output: ['p', 'w', 's', 'k', 'i', 'l', 'l', 's'] \n",
    "'''\n",
    "\n",
    "input_str = 'pwskills'\n",
    "result = [char for char in input_str if char in 'pwskills']\n",
    "print(result)"
   ]
  },
  {
   "cell_type": "code",
   "execution_count": 12,
   "id": "a7f002da",
   "metadata": {},
   "outputs": [
    {
     "name": "stdout",
     "output_type": "stream",
     "text": [
      "Enter a number : 1234\n",
      "1234 is not palindrome.\n"
     ]
    }
   ],
   "source": [
    "'''\n",
    "Que-8. Write a python program to check whether a given number is Palindrome or not using a while loop.\n",
    "'''\n",
    "\n",
    "def is_palindrome(n):\n",
    "    original_num = n\n",
    "    rev=0\n",
    "    while n>0:\n",
    "        rem = n%10\n",
    "        rev = rev*10+rem\n",
    "        n //=10\n",
    "    return original_num ==rev\n",
    "\n",
    "num = int(input(\"Enter a number : \"))\n",
    "if is_palindrome(num):\n",
    "    print(f\"{num} is palindrome.\")\n",
    "else:\n",
    "    print(f\"{num} is not palindrome.\")"
   ]
  },
  {
   "cell_type": "code",
   "execution_count": 19,
   "id": "41dc5486",
   "metadata": {},
   "outputs": [
    {
     "name": "stdout",
     "output_type": "stream",
     "text": [
      "[1, 3, 5, 7, 9, 11, 13, 15, 17, 19, 21, 23, 25, 27, 29, 31, 33, 35, 37, 39, 41, 43, 45, 47, 49, 51, 53, 55, 57, 59, 61, 63, 65, 67, 69, 71, 73, 75, 77, 79, 81, 83, 85, 87, 89, 91, 93, 95, 97, 99]\n"
     ]
    }
   ],
   "source": [
    "'''\n",
    "Que-9. Write a code to print odd numbers from 1 to 100 using list comprehension.\n",
    "'''\n",
    "\n",
    "odd_numbers = [num for num in range(1,101) if num%2 != 0]\n",
    "print(odd_numbers)"
   ]
  },
  {
   "cell_type": "code",
   "execution_count": null,
   "id": "635a81f7",
   "metadata": {},
   "outputs": [],
   "source": []
  }
 ],
 "metadata": {
  "kernelspec": {
   "display_name": "Python 3 (ipykernel)",
   "language": "python",
   "name": "python3"
  },
  "language_info": {
   "codemirror_mode": {
    "name": "ipython",
    "version": 3
   },
   "file_extension": ".py",
   "mimetype": "text/x-python",
   "name": "python",
   "nbconvert_exporter": "python",
   "pygments_lexer": "ipython3",
   "version": "3.10.5"
  }
 },
 "nbformat": 4,
 "nbformat_minor": 5
}
