{
 "cells": [
  {
   "cell_type": "code",
   "execution_count": 8,
   "id": "973239cc",
   "metadata": {},
   "outputs": [
    {
     "name": "stdout",
     "output_type": "stream",
     "text": [
      "('Jack Kallis', 25534)\n",
      "('Ricky Ponting', 27483)\n",
      "('Sachin Tendulkar', 34357)\n",
      "('Virat Kohli', 24936)\n"
     ]
    }
   ],
   "source": [
    "'''\n",
    "Que-1. Create a python program to sort the given list of tuples based on integer value using a \n",
    "lambda function. \n",
    "\n",
    "[('Sachin Tendulkar', 34357), ('Ricky Ponting', 27483), ('Jack Kallis', 25534), ('Virat Kohli', 24936)]\n",
    "'''\n",
    "\n",
    "data = [('Sachin Tendulkar', 34357), ('Ricky Ponting', 27483), ('Jack Kallis', 25534), ('Virat Kohli', 24936)]\n",
    "sorted_data = sorted(data,key= lambda x : x[0])\n",
    "for item in sorted_data:\n",
    "    print(item)"
   ]
  },
  {
   "cell_type": "code",
   "execution_count": 11,
   "id": "477b658d",
   "metadata": {},
   "outputs": [
    {
     "name": "stdout",
     "output_type": "stream",
     "text": [
      "[1, 4, 9, 16, 25, 36, 49, 64, 81, 100]\n"
     ]
    }
   ],
   "source": [
    "'''\n",
    "Que-2. Write a Python Program to find the squares of all the numbers in the given list of integers using \n",
    "lambda and map functions.\n",
    "'''\n",
    "\n",
    "number = [1,2,3,4,5,6,7,8,9,10]\n",
    "square_num= list(map(lambda x : x**2,number))\n",
    "print(square_num)"
   ]
  },
  {
   "cell_type": "code",
   "execution_count": 21,
   "id": "d4e2345e",
   "metadata": {},
   "outputs": [
    {
     "name": "stdout",
     "output_type": "stream",
     "text": [
      "('1', '2', '3', '4', '5', '6', '7', '8', '9', '10')\n"
     ]
    }
   ],
   "source": [
    "'''\n",
    "Que-3. Write a python program to convert the given list of integers into a tuple of strings. Use map and \n",
    "lambda functions\n",
    "\n",
    "Given String: [1, 2, 3, 4, 5, 6, 7, 8, 9, 10]\n",
    "\n",
    "Expected output: ('1', '2', '3', '4', '5', '6', '7', '8', '9', '10')\n",
    "'''\n",
    "l1 = [1,2,3,4,5,6,7,8,9,10]\n",
    "str_tuple = tuple(map(lambda x : str(x),l1))\n",
    "print(str_tuple)"
   ]
  },
  {
   "cell_type": "code",
   "execution_count": 22,
   "id": "2878bdd6",
   "metadata": {},
   "outputs": [
    {
     "name": "stdout",
     "output_type": "stream",
     "text": [
      "Product: 15511210043330985984000000\n"
     ]
    }
   ],
   "source": [
    "'''\n",
    "Que-4.  Write a python program using reduce function to compute the product of a list containing numbers \n",
    "from 1 to 25.\n",
    "'''\n",
    "\n",
    "from functools import reduce\n",
    "\n",
    "# Create a list of numbers from 1 to 25\n",
    "numbers = list(range(1, 26))\n",
    "\n",
    "# Define the function for the reduce operation\n",
    "def multiply(x, y):\n",
    "    return x * y\n",
    "\n",
    "# Use reduce to compute the product of the numbers\n",
    "product = reduce(multiply, numbers)\n",
    "\n",
    "print(\"Product:\", product)\n"
   ]
  },
  {
   "cell_type": "code",
   "execution_count": 29,
   "id": "b208bf7a",
   "metadata": {},
   "outputs": [
    {
     "name": "stdout",
     "output_type": "stream",
     "text": [
      "[6, 60, 90, 120]\n"
     ]
    }
   ],
   "source": [
    "'''\n",
    "Que-5. Write a python program to filter the numbers in a given list that are divisible by 2 and 3 using the \n",
    "filter function.\n",
    "\n",
    "\n",
    "[2, 3, 6, 9, 27, 60, 90, 120, 55, 46]\n",
    "'''\n",
    "numbers=[2, 3, 6, 9, 27, 60, 90, 120, 55, 46]\n",
    "def divisible_by_2_3(x):\n",
    "    return x%2==0 and x%3==0\n",
    "filtered_num = list(filter(divisible_by_2_3 ,numbers))\n",
    "print(filtered_num)"
   ]
  },
  {
   "cell_type": "code",
   "execution_count": 30,
   "id": "a652b3fc",
   "metadata": {},
   "outputs": [
    {
     "name": "stdout",
     "output_type": "stream",
     "text": [
      "Palindromes: ['php', 'aba', 'radar', 'level']\n"
     ]
    }
   ],
   "source": [
    "'''\n",
    "Que-6. Write a python program to find palindromes in the given list of strings using lambda and filter \n",
    "function.\n",
    "\n",
    "['python', 'php', 'aba', 'radar', 'level']\n",
    "'''\n",
    "\n",
    "strings = ['python', 'php', 'aba', 'radar', 'level']\n",
    "\n",
    "is_palindrome = lambda s: s == s[::-1]\n",
    "\n",
    "palindromes = list(filter(is_palindrome, strings))\n",
    "\n",
    "print(\"Palindromes:\", palindromes)\n"
   ]
  },
  {
   "cell_type": "code",
   "execution_count": null,
   "id": "029c9c7a",
   "metadata": {},
   "outputs": [],
   "source": []
  }
 ],
 "metadata": {
  "kernelspec": {
   "display_name": "Python 3 (ipykernel)",
   "language": "python",
   "name": "python3"
  },
  "language_info": {
   "codemirror_mode": {
    "name": "ipython",
    "version": 3
   },
   "file_extension": ".py",
   "mimetype": "text/x-python",
   "name": "python",
   "nbconvert_exporter": "python",
   "pygments_lexer": "ipython3",
   "version": "3.10.5"
  }
 },
 "nbformat": 4,
 "nbformat_minor": 5
}
