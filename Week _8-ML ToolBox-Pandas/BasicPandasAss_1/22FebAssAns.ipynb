{
 "cells": [
  {
   "cell_type": "code",
   "execution_count": null,
   "id": "a03295a3",
   "metadata": {},
   "outputs": [],
   "source": []
  },
  {
   "cell_type": "code",
   "execution_count": 3,
   "id": "69514de5",
   "metadata": {},
   "outputs": [
    {
     "name": "stdout",
     "output_type": "stream",
     "text": [
      "0     4\n",
      "1     8\n",
      "2    15\n",
      "3    16\n",
      "4    23\n",
      "5    42\n",
      "dtype: int64\n"
     ]
    }
   ],
   "source": [
    "'''\n",
    "Que-1. Create a Pandas Series that contains the following data: 4, 8, 15, 16, 23, and 42. Then, print the series.\n",
    "'''\n",
    "import pandas as pd\n",
    "data =[4,8,15,16,23,42]\n",
    "series = pd.Series(data)\n",
    "print(series)"
   ]
  },
  {
   "cell_type": "code",
   "execution_count": null,
   "id": "7b6a63a0",
   "metadata": {},
   "outputs": [],
   "source": [
    "'''\n",
    "Que-2. Create a variable of list type containing 10 elements in it, and apply pandas.Series function on the \n",
    "variable print it.\n",
    "'''"
   ]
  },
  {
   "cell_type": "code",
   "execution_count": 4,
   "id": "3b5c8bb8",
   "metadata": {},
   "outputs": [
    {
     "name": "stdout",
     "output_type": "stream",
     "text": [
      "0     1\n",
      "1     2\n",
      "2     3\n",
      "3     4\n",
      "4     5\n",
      "5     6\n",
      "6     7\n",
      "7     8\n",
      "8     9\n",
      "9    10\n",
      "dtype: int64\n"
     ]
    }
   ],
   "source": [
    "l = [1,2,3,4,5,6,7,8,9,10]\n",
    "series = pd.Series(l)\n",
    "print(series)"
   ]
  },
  {
   "cell_type": "code",
   "execution_count": 12,
   "id": "fbb3d429",
   "metadata": {},
   "outputs": [
    {
     "name": "stdout",
     "output_type": "stream",
     "text": [
      "     name  age gender\n",
      "0   VIKAS   19   male\n",
      "1  VISHAL   20   male\n",
      "2  PANKAJ   21   male\n",
      "3  RAMPAL   22   male\n"
     ]
    }
   ],
   "source": [
    "'''\n",
    "Que-3. Create a Pandas DataFrame that contains the following data: Name age and gender and print it.\n",
    "'''\n",
    "# Data for datafram\n",
    "data = {\n",
    "    'name':['VIKAS','VISHAL','PANKAJ','RAMPAL'],\n",
    "    'age':[19,20,21,22],\n",
    "    'gender':['male','male','male','male'] }\n",
    "\n",
    "df = pd.DataFrame(data)\n",
    "print(df)"
   ]
  },
  {
   "cell_type": "code",
   "execution_count": null,
   "id": "d3923f9f",
   "metadata": {},
   "outputs": [],
   "source": [
    "'''\n",
    "Que-4. What is ‘DataFrame’ in pandas and how is it different from pandas.series? Explain with an example.\n",
    "\n",
    "Ans- In pandas, 'DataFrame' is a two dimensional,size mutable and heterogeneous tabular data structure with rows and column.\n",
    "\n",
    "    'Series' is one dimensional labled array that can hold data of any type it is often used to represent single column of data.\n",
    "'''"
   ]
  },
  {
   "cell_type": "code",
   "execution_count": null,
   "id": "6f751bdc",
   "metadata": {},
   "outputs": [],
   "source": [
    "'''\n",
    "Que-5. What are some common functions you can use to manipulate data in a Pandas DataFrame? Can you give an example \n",
    "       of when you might use one of these functions?\n",
    " Ans- \n",
    "     import pandas as pd\n",
    "    df1 = pd.read_csv(\"Customers.csv\")\n",
    "    df.head()\n",
    "    df.tail()\n",
    "    df.describe\n",
    "    df.info()\n",
    "    df.sort()\n",
    "    df.drop(cloumns=['C_name'])\n",
    "    df.shape()\n",
    "    df.dtypes()\n",
    "    df.icol() and df.col()\n",
    "    \n",
    "'''"
   ]
  },
  {
   "cell_type": "code",
   "execution_count": null,
   "id": "c51d9e79",
   "metadata": {},
   "outputs": [],
   "source": [
    "'''\n",
    "Que-6. Which of the following is mutable in nature Series, DataFrame, Panel?\n",
    "\n",
    "Ans- Series and DataFrame is mutable which means we can add, delete or modify columns and rows and values within dataFrame.\n",
    "\n",
    "'''"
   ]
  },
  {
   "cell_type": "code",
   "execution_count": 17,
   "id": "f49261d0",
   "metadata": {},
   "outputs": [
    {
     "name": "stdout",
     "output_type": "stream",
     "text": [
      "      Name  Age  Gender\n",
      "0      Ram   21  gender\n",
      "1    Shyam   22  gender\n",
      "2  Krishna   23  gender\n"
     ]
    }
   ],
   "source": [
    "'''\n",
    "Que-7. Create a DataFrame using multiple Series. Explain with an example.\n",
    "\n",
    "'''\n",
    "# creating series \n",
    "names = pd.Series(['Ram','Shyam','Krishna'])\n",
    "ages = pd.Series([21,22,23])\n",
    "gender = pd.Series(['Male','Male','Male'])\n",
    "\n",
    "data = {'Name':names,'Age':ages,'Gender':'gender'}\n",
    "df1= pd.DataFrame(data)\n",
    "print(df1)"
   ]
  },
  {
   "cell_type": "code",
   "execution_count": null,
   "id": "3988bc98",
   "metadata": {},
   "outputs": [],
   "source": []
  }
 ],
 "metadata": {
  "kernelspec": {
   "display_name": "Python 3 (ipykernel)",
   "language": "python",
   "name": "python3"
  },
  "language_info": {
   "codemirror_mode": {
    "name": "ipython",
    "version": 3
   },
   "file_extension": ".py",
   "mimetype": "text/x-python",
   "name": "python",
   "nbconvert_exporter": "python",
   "pygments_lexer": "ipython3",
   "version": "3.10.5"
  }
 },
 "nbformat": 4,
 "nbformat_minor": 5
}
